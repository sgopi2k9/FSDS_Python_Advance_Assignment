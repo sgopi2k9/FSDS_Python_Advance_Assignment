{
  "nbformat": 4,
  "nbformat_minor": 0,
  "metadata": {
    "colab": {
      "name": "Python_Advance_Assignment1.ipynb",
      "provenance": [],
      "collapsed_sections": []
    },
    "kernelspec": {
      "name": "python3",
      "display_name": "Python 3"
    },
    "language_info": {
      "name": "python"
    }
  },
  "cells": [
    {
      "cell_type": "markdown",
      "source": [
        "Q1. What is the purpose of Python's OOP?"
      ],
      "metadata": {
        "id": "Xwf7BvdkeFxs"
      }
    },
    {
      "cell_type": "markdown",
      "source": [
        "**Answer**\n",
        "\n",
        "Object oriented programming makes program more reusable.OOP prevents methods to be repeated again and again. class can be defined once and the properties of the class can be reused again."
      ],
      "metadata": {
        "id": "j-SY9QAheKlD"
      }
    },
    {
      "cell_type": "markdown",
      "source": [
        "Q2. Where does an inheritance search look for an attribute?"
      ],
      "metadata": {
        "id": "FhCbcTI1eeon"
      }
    },
    {
      "cell_type": "markdown",
      "source": [
        "**Answer**\n",
        "When searching for an attribure, the child class will first search in its own class, if the attribute is not available then program will check in the parent class"
      ],
      "metadata": {
        "id": "HAEV1ceHehlP"
      }
    },
    {
      "cell_type": "markdown",
      "source": [
        "Q3. How do you distinguish between a class object and an instance object?"
      ],
      "metadata": {
        "id": "jYR9bOkFfLQe"
      }
    },
    {
      "cell_type": "markdown",
      "source": [
        "**Answer** \n",
        "\n",
        "Class Variables — Declared inside the class definition (but outside any of the instance methods). They are not tied to any particular object of the class, hence shared across all the objects of the class. Modifying a class variable affects all objects instance at the same time.\n",
        "\n",
        "Instance Variable — Declared inside the constructor method of class (the __init__ method). They are tied to the particular object instance of the class, hence the contents of an instance variable are completely independent from one object instance to the other."
      ],
      "metadata": {
        "id": "O6MVBiYFfQlZ"
      }
    },
    {
      "cell_type": "markdown",
      "source": [
        "Q4. What makes the first argument in a class’s method function special?"
      ],
      "metadata": {
        "id": "ATHNPQJ1f9Si"
      }
    },
    {
      "cell_type": "markdown",
      "source": [
        "**Answer** For class method, a class object is passed as its first arguement. The arguement belongs to class and denotes the class. For accessing any class variables the class object is used. Usually denoted by self "
      ],
      "metadata": {
        "id": "e23cd3SLgB63"
      }
    },
    {
      "cell_type": "markdown",
      "source": [
        "Q5. What is the purpose of the __init__ method?"
      ],
      "metadata": {
        "id": "ke-BRXCShbp1"
      }
    },
    {
      "cell_type": "markdown",
      "source": [
        "**Answer** __init__, is a special inbuilt method that it is reserved in Python to be executed whenever class-initialization is invoked. In other terms this will act as a constructor."
      ],
      "metadata": {
        "id": "fzEoga-thgjb"
      }
    },
    {
      "cell_type": "markdown",
      "source": [
        "Q6. What is the process for creating a class instance?"
      ],
      "metadata": {
        "id": "DArpEamViAmh"
      }
    },
    {
      "cell_type": "markdown",
      "source": [
        "**Answer** To create an instance of class we need to call the class name and either pass or not pass arguements depending on __int__ method\n",
        "\n",
        "For eg: class name -> test\n",
        "\n",
        "t = test()"
      ],
      "metadata": {
        "id": "l9RzvKuviI1x"
      }
    },
    {
      "cell_type": "markdown",
      "source": [
        "Q7. What is the process for creating a class?"
      ],
      "metadata": {
        "id": "QS-cq6_1iqXq"
      }
    },
    {
      "cell_type": "markdown",
      "source": [
        "**Answer** To create a class \"class\" keyword must be used followed by class name\n",
        "\n",
        "For eg:\n",
        "\n",
        "class test:\n",
        "  pass"
      ],
      "metadata": {
        "id": "18w_olkZitw9"
      }
    },
    {
      "cell_type": "markdown",
      "source": [
        "Q8. How would you define the superclasses of a class?"
      ],
      "metadata": {
        "id": "Y9zMw5lsjWi4"
      }
    },
    {
      "cell_type": "markdown",
      "source": [
        "**Answer** when a child class inherits from parent class, the parent class is called as super class from child class perspective. super() can be used to call the parent class constructors."
      ],
      "metadata": {
        "id": "I7FOStJrjZM9"
      }
    }
  ]
}