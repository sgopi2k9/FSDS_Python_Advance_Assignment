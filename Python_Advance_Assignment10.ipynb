{
  "nbformat": 4,
  "nbformat_minor": 0,
  "metadata": {
    "colab": {
      "name": "Python_Advance_Assignment10.ipynb",
      "provenance": [],
      "collapsed_sections": []
    },
    "kernelspec": {
      "name": "python3",
      "display_name": "Python 3"
    },
    "language_info": {
      "name": "python"
    }
  },
  "cells": [
    {
      "cell_type": "markdown",
      "source": [
        "Q1. What is the difference between \\_\\_getattr\\_\\_ and \\_\\_getattribute\\_\\_?"
      ],
      "metadata": {
        "id": "9q3JzgMcAOtp"
      }
    },
    {
      "cell_type": "markdown",
      "source": [
        "**Answer**\n",
        "\n",
        "Python will call \\_\\_getattr\\_\\_ method whenever you request an attribute that hasn't already been defined.\n",
        "\n",
        "Python will call \\_\\_getattribute\\_\\_ method whenever attribute is not present in the class. If the attribute is not present then attributerror will be raised.\n",
        "If \\_\\_getattr\\_\\_ and \\_\\_getattribute\\_\\_ both are defined in the same class then \\_\\_getattribute\\_\\_ will call \\_\\_getattr\\_\\_ incase attributeerror is raised.\n"
      ],
      "metadata": {
        "id": "FqiwWIX0AfOW"
      }
    },
    {
      "cell_type": "code",
      "source": [
        "#Example of __getattr__\n",
        "class test1():\n",
        "  def __init__(self,val):\n",
        "    self.val = val\n",
        "  def __getattr__(self,item):\n",
        "    self.item = 0\n",
        "    return self.item\n",
        "\n",
        "t = test1(10)\n",
        "print(t.val)\n",
        "print(t.noval)\n",
        "\n",
        "\n"
      ],
      "metadata": {
        "colab": {
          "base_uri": "https://localhost:8080/"
        },
        "id": "qS1Ai3q7C7t8",
        "outputId": "d52c96c9-13cd-4f66-8f60-2e5c46a36c4b"
      },
      "execution_count": 1,
      "outputs": [
        {
          "output_type": "stream",
          "name": "stdout",
          "text": [
            "10\n",
            "0\n"
          ]
        }
      ]
    },
    {
      "cell_type": "code",
      "source": [
        "#Example of __getattribute__\n",
        "class test2():\n",
        "  def __init__(self,val):\n",
        "    self.val = val\n",
        "  def __getattribute__(self, item):\n",
        "    self.item = 0\n",
        "    return object.__getattribute__(self,item)\n",
        "  def __getattr__(self,item):\n",
        "    self.item = 0\n",
        "    return self.item\n",
        "\n",
        "\n",
        "t2 = test2(11)\n",
        "print(t2.val)\n",
        "print(t2.noval)"
      ],
      "metadata": {
        "colab": {
          "base_uri": "https://localhost:8080/"
        },
        "id": "EGitpvGQEEw4",
        "outputId": "a6081cb3-c9a8-4a51-ab03-8f9d66c8235c"
      },
      "execution_count": 4,
      "outputs": [
        {
          "output_type": "stream",
          "name": "stdout",
          "text": [
            "11\n",
            "0\n"
          ]
        }
      ]
    },
    {
      "cell_type": "markdown",
      "source": [
        "Q2. What is the difference between properties and descriptors?\n"
      ],
      "metadata": {
        "id": "f6cI_tVhAf2H"
      }
    },
    {
      "cell_type": "markdown",
      "source": [
        "**Answer**\n",
        "\n",
        "**Properties**. We can bind getter, setter (and deleter) functions with an attribute name, using the built-in property function. When we do this, each reference to an attribute looks like simple, direct access, but invokes the appropriate function of the object. For example, anObject.price= someValue; anObject.value.\n",
        "\n",
        "**Descriptors**. We can bind getter, setter (and deleter) functions into a separate class. We then assign an object of this class to the attribute name. When we do this, each reference to an attribute looks like simple, direct access, but invokes an appropriate function of the Descriptor object. For example, anObject.price= someValue; anObject.value\n",
        "\n",
        "value = property(getValue, setValue, delValue)"
      ],
      "metadata": {
        "id": "_iCynm4UAicP"
      }
    },
    {
      "cell_type": "markdown",
      "source": [
        "Q3. What are the key differences in functionality between \\_\\_getattr\\_\\_ and \\_\\_getattribute\\_\\_, as well as properties and descriptors?\n"
      ],
      "metadata": {
        "id": "nIA1naGuAiyt"
      }
    },
    {
      "cell_type": "markdown",
      "source": [
        "**Answer**\n",
        "\n",
        "\\_\\_getattr\\_\\_: Python will call this method whenever you request an attribute that hasn't already been defined\n",
        "\n",
        "\\_\\_getattribute\\_\\_ : This method will invoked before looking at the actual attributes on the object. Means,if we have \\_\\_getattribute\\_\\_ method in our class, python invokes this method for every attribute regardless whether it exists or not.\n",
        "\n",
        "Descriptors allow getter and setter methods to be defined within class itself using \\_\\_get\\_\\_ and \\_\\_set\\_\\_ methods\n",
        "\n",
        "Properties allow get and set methods to be bind to an attribute using property() method\n"
      ],
      "metadata": {
        "id": "7LDqTDdxAn7c"
      }
    }
  ]
}