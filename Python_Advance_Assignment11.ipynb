{
  "nbformat": 4,
  "nbformat_minor": 0,
  "metadata": {
    "colab": {
      "name": "Python_Advance_Assignment11.ipynb",
      "provenance": [],
      "collapsed_sections": []
    },
    "kernelspec": {
      "name": "python3",
      "display_name": "Python 3"
    },
    "language_info": {
      "name": "python"
    }
  },
  "cells": [
    {
      "cell_type": "markdown",
      "source": [
        "Q1. What is the concept of a metaclass?"
      ],
      "metadata": {
        "id": "cqaWV7SBMq29"
      }
    },
    {
      "cell_type": "markdown",
      "source": [
        "**Answer**\n",
        "\n",
        "Metaclass in Python is a class of a class that defines how a class behaves. A class is itself a instance of Metaclass, and any Instance of Class in Python is an Instance of type metaclass. E.g. Type of of int, str, float, list, tuple and many more is of metaclass type"
      ],
      "metadata": {
        "id": "JwcQasdbM70K"
      }
    },
    {
      "cell_type": "markdown",
      "source": [
        "Q2. What is the best way to declare a class's metaclass?"
      ],
      "metadata": {
        "id": "zgbjzkgxM8EV"
      }
    },
    {
      "cell_type": "markdown",
      "source": [
        "**Answer**\n",
        "\n",
        "A way to declare a class’ metaclass is by using metaclass keyword in class definition."
      ],
      "metadata": {
        "id": "WEfzw0HmM-hr"
      }
    },
    {
      "cell_type": "code",
      "source": [
        "class meta(type):\n",
        "    pass\n",
        "class class_meta(metaclass=meta):\n",
        "    pass\n",
        "print(type(meta))\n",
        "print(type(class_meta))"
      ],
      "metadata": {
        "colab": {
          "base_uri": "https://localhost:8080/"
        },
        "id": "txCuqGgqOvG2",
        "outputId": "c4745ccb-2b73-45dc-d482-efb3dfe0deef"
      },
      "execution_count": 3,
      "outputs": [
        {
          "output_type": "stream",
          "name": "stdout",
          "text": [
            "<class 'type'>\n",
            "<class '__main__.meta'>\n"
          ]
        }
      ]
    },
    {
      "cell_type": "markdown",
      "source": [
        "Q3. How do class decorators overlap with metaclasses for handling classes?"
      ],
      "metadata": {
        "id": "OjSF6A5gM-uE"
      }
    },
    {
      "cell_type": "markdown",
      "source": [
        "**Answer**\n",
        "\n",
        "Decorator affeects only the current class whereas metaclasses affects the class that is inheriting it."
      ],
      "metadata": {
        "id": "mncouXJ3NBRp"
      }
    },
    {
      "cell_type": "markdown",
      "source": [
        "Q4. How do class decorators overlap with metaclasses for handling instances?"
      ],
      "metadata": {
        "id": "WrNtX3chNBfe"
      }
    },
    {
      "cell_type": "markdown",
      "source": [
        "**Answer**\n",
        "\n",
        "Decorator affeects only the current class whereas metaclasses affects the class that is inheriting it."
      ],
      "metadata": {
        "id": "9aDUlNY6NEXX"
      }
    }
  ]
}