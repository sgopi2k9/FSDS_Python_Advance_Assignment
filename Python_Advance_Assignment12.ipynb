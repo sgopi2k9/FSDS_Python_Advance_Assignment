{
  "nbformat": 4,
  "nbformat_minor": 0,
  "metadata": {
    "colab": {
      "name": "Python_Advance_Assignment12.ipynb",
      "provenance": [],
      "collapsed_sections": []
    },
    "kernelspec": {
      "name": "python3",
      "display_name": "Python 3"
    },
    "language_info": {
      "name": "python"
    }
  },
  "cells": [
    {
      "cell_type": "markdown",
      "source": [
        "Q1. Does assigning a value to a string's indexed character violate Python's string immutability?"
      ],
      "metadata": {
        "id": "6nHzK6dMTHkY"
      }
    },
    {
      "cell_type": "markdown",
      "source": [
        "**Answer**\n",
        "\n",
        "We cannot assign indexed character to a string as strings are immutable"
      ],
      "metadata": {
        "id": "Ix-_X-lNTMfb"
      }
    },
    {
      "cell_type": "code",
      "source": [
        "s = \"sample\"\n",
        "s[1] = 't'"
      ],
      "metadata": {
        "colab": {
          "base_uri": "https://localhost:8080/",
          "height": 183
        },
        "id": "6ckNMsPxUP9p",
        "outputId": "70e89628-3762-4427-90b7-1a0cadf30331"
      },
      "execution_count": 1,
      "outputs": [
        {
          "output_type": "error",
          "ename": "TypeError",
          "evalue": "ignored",
          "traceback": [
            "\u001b[0;31m---------------------------------------------------------------------------\u001b[0m",
            "\u001b[0;31mTypeError\u001b[0m                                 Traceback (most recent call last)",
            "\u001b[0;32m<ipython-input-1-d4be2d16f0d8>\u001b[0m in \u001b[0;36m<module>\u001b[0;34m()\u001b[0m\n\u001b[1;32m      1\u001b[0m \u001b[0ms\u001b[0m \u001b[0;34m=\u001b[0m \u001b[0;34m\"sample\"\u001b[0m\u001b[0;34m\u001b[0m\u001b[0;34m\u001b[0m\u001b[0m\n\u001b[0;32m----> 2\u001b[0;31m \u001b[0ms\u001b[0m\u001b[0;34m[\u001b[0m\u001b[0;36m1\u001b[0m\u001b[0;34m]\u001b[0m \u001b[0;34m=\u001b[0m \u001b[0;34m't'\u001b[0m\u001b[0;34m\u001b[0m\u001b[0;34m\u001b[0m\u001b[0m\n\u001b[0m",
            "\u001b[0;31mTypeError\u001b[0m: 'str' object does not support item assignment"
          ]
        }
      ]
    },
    {
      "cell_type": "markdown",
      "source": [
        "Q2. Does using the += operator to concatenate strings violate Python's string immutability? Why or why not? "
      ],
      "metadata": {
        "id": "zThGNLgGTM3G"
      }
    },
    {
      "cell_type": "markdown",
      "source": [
        "**Answer**\n",
        "\n",
        "We can use += operator to concatenate strings. It does not violate immutability. Because doing so new creates a new association with data and variable."
      ],
      "metadata": {
        "id": "1ThaRyUUTPDA"
      }
    },
    {
      "cell_type": "code",
      "source": [
        "s1 = \"test\"\n",
        "print(id(s1))\n",
        "\n",
        "s1+=\"as\"\n",
        "print(id(s1))"
      ],
      "metadata": {
        "colab": {
          "base_uri": "https://localhost:8080/"
        },
        "id": "VWUpprzVVwDF",
        "outputId": "b1402466-3f14-4ffd-d4b5-077a94ce6b11"
      },
      "execution_count": 3,
      "outputs": [
        {
          "output_type": "stream",
          "name": "stdout",
          "text": [
            "140282696827312\n",
            "140282065660784\n"
          ]
        }
      ]
    },
    {
      "cell_type": "markdown",
      "source": [
        "Q3. In Python, how many different ways are there to index a character?"
      ],
      "metadata": {
        "id": "EBRjbrXXTPPW"
      }
    },
    {
      "cell_type": "markdown",
      "source": [
        "**Answer**\n",
        "\n",
        "A Character in string can be indexed using string name followed by index number of character in square bracket. Positive Indexing i.e. first index is 0 an so on, or Negative Indexing i.e. last letter is -1 and so on can be used to index a character"
      ],
      "metadata": {
        "id": "MQi37K42TRdx"
      }
    },
    {
      "cell_type": "markdown",
      "source": [
        "Q4. What is the relationship between indexing and slicing?"
      ],
      "metadata": {
        "id": "szjeGfl6TRtP"
      }
    },
    {
      "cell_type": "markdown",
      "source": [
        "**Answer**\n",
        "\n",
        "We can access elements of sequence datatypes by using slicing and indexing. Indexing is used to obtaining individual element while slicing for sequence of elements."
      ],
      "metadata": {
        "id": "plVHJ7UcTUK8"
      }
    },
    {
      "cell_type": "markdown",
      "source": [
        "Q5. What is an indexed character's exact data type? What is the data form of a slicing-generated substring?"
      ],
      "metadata": {
        "id": "9n4KHG3MTUko"
      }
    },
    {
      "cell_type": "markdown",
      "source": [
        "**Answer**\n",
        "\n",
        "Both belong to datatype string as shown in code below"
      ],
      "metadata": {
        "id": "0dTxdTtVTW85"
      }
    },
    {
      "cell_type": "code",
      "source": [
        "s = \"test\"\n",
        "print(type(s[1]))\n",
        "print(type(s[::-1]))"
      ],
      "metadata": {
        "colab": {
          "base_uri": "https://localhost:8080/"
        },
        "id": "dReaF36iaEe6",
        "outputId": "84e3c8f9-a027-4082-eb0e-1fe28785a329"
      },
      "execution_count": 4,
      "outputs": [
        {
          "output_type": "stream",
          "name": "stdout",
          "text": [
            "<class 'str'>\n",
            "<class 'str'>\n"
          ]
        }
      ]
    },
    {
      "cell_type": "markdown",
      "source": [
        "Q6. What is the relationship between string and character \"types\" in Python?"
      ],
      "metadata": {
        "id": "I3qpcIkbTXM-"
      }
    },
    {
      "cell_type": "markdown",
      "source": [
        "**Answer**\n",
        "\n",
        "Object that contains sequence of character datatypes are called String. In Python all characters are treated as string"
      ],
      "metadata": {
        "id": "69DV06A4TZzg"
      }
    },
    {
      "cell_type": "markdown",
      "source": [
        "Q7. Identify at least two operators and one method that allow you to combine one or more smaller strings to create a larger string."
      ],
      "metadata": {
        "id": "7pfR24fgTaAO"
      }
    },
    {
      "cell_type": "markdown",
      "source": [
        "**Answer**\n",
        "\n",
        "+, += and * allow to combine one or more smaller strings to create a larger string. string.join(sep) method joins element of iterable type like list and tuple to get a combined string."
      ],
      "metadata": {
        "id": "j7I0rl1QTc-d"
      }
    },
    {
      "cell_type": "markdown",
      "source": [
        "Q8. What is the benefit of first checking the target string with in or not in before using the index method to find a substring?"
      ],
      "metadata": {
        "id": "XLe4RUmSTdQN"
      }
    },
    {
      "cell_type": "markdown",
      "source": [
        "**Answer**\n",
        "\n",
        "Checking the target string with in or not Operators before using the index method to find a substring just helps confirming availability of substring and thus avoid raising of ValueError.\n",
        "\n",
        "Example:\n",
        "\n",
        "in_string = \"ineuron\"\n",
        "\n",
        "in_string.index('x') # Raises ValueError\n",
        "\n",
        "in_string.index('u') # 3"
      ],
      "metadata": {
        "id": "bsXPdtxyTfo5"
      }
    },
    {
      "cell_type": "markdown",
      "source": [
        "Q9. Which operators and built-in string methods produce simple Boolean (true/false) results?\n"
      ],
      "metadata": {
        "id": "I2ibzUAcTf4V"
      }
    },
    {
      "cell_type": "markdown",
      "source": [
        "**Answer**\n",
        "\n",
        "he String Operators and built-in methods to Produce Simple Boolean (True/False) Results are:\n",
        "\n",
        "in\n",
        "\n",
        "not\n",
        "\n",
        "string.isalpha()\n",
        "\n",
        "string>.isalnum()\n",
        "\n",
        "string>.isdecimal()\n",
        "\n",
        "string>.isdigit()\n",
        "\n",
        "string>.islower()\n",
        "\n",
        "string>.isnumeric()\n",
        "\n",
        "\n",
        "string>.isprintable()\n",
        "\n",
        "string>.isspace()\n",
        "\n",
        "string>.istitle()"
      ],
      "metadata": {
        "id": "mjy-UHG2TiEo"
      }
    }
  ]
}