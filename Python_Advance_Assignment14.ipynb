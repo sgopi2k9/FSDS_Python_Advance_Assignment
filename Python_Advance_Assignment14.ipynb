{
  "nbformat": 4,
  "nbformat_minor": 0,
  "metadata": {
    "colab": {
      "name": "Python_Advance_Assignment14.ipynb",
      "provenance": [],
      "collapsed_sections": []
    },
    "kernelspec": {
      "name": "python3",
      "display_name": "Python 3"
    },
    "language_info": {
      "name": "python"
    }
  },
  "cells": [
    {
      "cell_type": "markdown",
      "source": [
        "Q1. Is an assignment operator like += only for show? Is it possible that it would lead to faster results at the runtime?"
      ],
      "metadata": {
        "id": "Er-UnzutfmoB"
      }
    },
    {
      "cell_type": "markdown",
      "source": [
        "**Answer**\n",
        "\n",
        "A=A+1 evaluates to finding A, adding 1 to it. Then storing the value again in variable A. This expression makes Python to look for memory holder of a twice. But A+=1 simply means value of A is to incremented by 1. As memory address has to be identified once, += leads to faster operation."
      ],
      "metadata": {
        "id": "Ohh2GoJI4a2_"
      }
    },
    {
      "cell_type": "markdown",
      "source": [
        "Q2. What is the smallest number of statements you'd have to write in most programming languages to replace the Python expression a, b = a + b, a?"
      ],
      "metadata": {
        "id": "znwtA7AI4bYj"
      }
    },
    {
      "cell_type": "markdown",
      "source": [
        "**Answer**\n",
        "\n",
        "c=a+b\n",
        "b=a\n",
        "a=c"
      ],
      "metadata": {
        "id": "-KwFoQYv4dwb"
      }
    },
    {
      "cell_type": "markdown",
      "source": [
        "Q3. In Python, what is the most effective way to set a list of 100 integers to 0?"
      ],
      "metadata": {
        "id": "AanASTc54d9f"
      }
    },
    {
      "cell_type": "markdown",
      "source": [
        "**Answer**"
      ],
      "metadata": {
        "id": "eKIMq84S4hA2"
      }
    },
    {
      "cell_type": "code",
      "source": [
        "# Method 1\n",
        "l1=[0]*100\n",
        "print(l1)\n",
        "# Method 2\n",
        "l2 = [0 for x in range(100)]\n",
        "print(l2)"
      ],
      "metadata": {
        "colab": {
          "base_uri": "https://localhost:8080/"
        },
        "id": "3WQ5IUGB6R4G",
        "outputId": "df5aec3f-2abe-416a-f7af-75300dcaa3c4"
      },
      "execution_count": 1,
      "outputs": [
        {
          "output_type": "stream",
          "name": "stdout",
          "text": [
            "[0, 0, 0, 0, 0, 0, 0, 0, 0, 0, 0, 0, 0, 0, 0, 0, 0, 0, 0, 0, 0, 0, 0, 0, 0, 0, 0, 0, 0, 0, 0, 0, 0, 0, 0, 0, 0, 0, 0, 0, 0, 0, 0, 0, 0, 0, 0, 0, 0, 0, 0, 0, 0, 0, 0, 0, 0, 0, 0, 0, 0, 0, 0, 0, 0, 0, 0, 0, 0, 0, 0, 0, 0, 0, 0, 0, 0, 0, 0, 0, 0, 0, 0, 0, 0, 0, 0, 0, 0, 0, 0, 0, 0, 0, 0, 0, 0, 0, 0, 0]\n",
            "[0, 0, 0, 0, 0, 0, 0, 0, 0, 0, 0, 0, 0, 0, 0, 0, 0, 0, 0, 0, 0, 0, 0, 0, 0, 0, 0, 0, 0, 0, 0, 0, 0, 0, 0, 0, 0, 0, 0, 0, 0, 0, 0, 0, 0, 0, 0, 0, 0, 0, 0, 0, 0, 0, 0, 0, 0, 0, 0, 0, 0, 0, 0, 0, 0, 0, 0, 0, 0, 0, 0, 0, 0, 0, 0, 0, 0, 0, 0, 0, 0, 0, 0, 0, 0, 0, 0, 0, 0, 0, 0, 0, 0, 0, 0, 0, 0, 0, 0, 0]\n"
          ]
        }
      ]
    },
    {
      "cell_type": "markdown",
      "source": [
        "Q4. What is the most effective way to initialise a list of 99 integers that repeats the sequence 1, 2, 3? S If necessary, show step-by-step instructions on how to accomplish this."
      ],
      "metadata": {
        "id": "pS0uAUNA4hNj"
      }
    },
    {
      "cell_type": "markdown",
      "source": [
        "**Answer**"
      ],
      "metadata": {
        "id": "BWzMt2ly4jui"
      }
    },
    {
      "cell_type": "code",
      "source": [
        "l3 = [1,2,3]*99\n",
        "print(l3)"
      ],
      "metadata": {
        "colab": {
          "base_uri": "https://localhost:8080/"
        },
        "id": "Js6GUMn36j3J",
        "outputId": "ad141d19-25c0-4fda-d2c7-decd53fea70f"
      },
      "execution_count": 4,
      "outputs": [
        {
          "output_type": "stream",
          "name": "stdout",
          "text": [
            "[1, 2, 3, 1, 2, 3, 1, 2, 3, 1, 2, 3, 1, 2, 3, 1, 2, 3, 1, 2, 3, 1, 2, 3, 1, 2, 3, 1, 2, 3, 1, 2, 3, 1, 2, 3, 1, 2, 3, 1, 2, 3, 1, 2, 3, 1, 2, 3, 1, 2, 3, 1, 2, 3, 1, 2, 3, 1, 2, 3, 1, 2, 3, 1, 2, 3, 1, 2, 3, 1, 2, 3, 1, 2, 3, 1, 2, 3, 1, 2, 3, 1, 2, 3, 1, 2, 3, 1, 2, 3, 1, 2, 3, 1, 2, 3, 1, 2, 3, 1, 2, 3, 1, 2, 3, 1, 2, 3, 1, 2, 3, 1, 2, 3, 1, 2, 3, 1, 2, 3, 1, 2, 3, 1, 2, 3, 1, 2, 3, 1, 2, 3, 1, 2, 3, 1, 2, 3, 1, 2, 3, 1, 2, 3, 1, 2, 3, 1, 2, 3, 1, 2, 3, 1, 2, 3, 1, 2, 3, 1, 2, 3, 1, 2, 3, 1, 2, 3, 1, 2, 3, 1, 2, 3, 1, 2, 3, 1, 2, 3, 1, 2, 3, 1, 2, 3, 1, 2, 3, 1, 2, 3, 1, 2, 3, 1, 2, 3, 1, 2, 3, 1, 2, 3, 1, 2, 3, 1, 2, 3, 1, 2, 3, 1, 2, 3, 1, 2, 3, 1, 2, 3, 1, 2, 3, 1, 2, 3, 1, 2, 3, 1, 2, 3, 1, 2, 3, 1, 2, 3, 1, 2, 3, 1, 2, 3, 1, 2, 3, 1, 2, 3, 1, 2, 3, 1, 2, 3, 1, 2, 3, 1, 2, 3, 1, 2, 3, 1, 2, 3, 1, 2, 3, 1, 2, 3, 1, 2, 3, 1, 2, 3, 1, 2, 3, 1, 2, 3, 1, 2, 3, 1, 2, 3, 1, 2, 3]\n"
          ]
        }
      ]
    },
    {
      "cell_type": "markdown",
      "source": [
        "Q5. If you're using IDLE to run a Python application, explain how to print a multidimensional list as efficiently?"
      ],
      "metadata": {
        "id": "TZdGT8d24j9g"
      }
    },
    {
      "cell_type": "markdown",
      "source": [
        "**Answer**\n"
      ],
      "metadata": {
        "id": "bSmv7kK74pTo"
      }
    },
    {
      "cell_type": "code",
      "source": [
        "l4 = [[1,1],[2,2],[3,3],[4,4]]\n",
        "for i in l4:\n",
        "  for j in i:\n",
        "    print(j)"
      ],
      "metadata": {
        "colab": {
          "base_uri": "https://localhost:8080/"
        },
        "id": "5vs3ilgZ64LH",
        "outputId": "8e2d2fe9-0012-40d1-fbc3-e4b156d00f57"
      },
      "execution_count": 5,
      "outputs": [
        {
          "output_type": "stream",
          "name": "stdout",
          "text": [
            "1\n",
            "1\n",
            "2\n",
            "2\n",
            "3\n",
            "3\n",
            "4\n",
            "4\n"
          ]
        }
      ]
    },
    {
      "cell_type": "markdown",
      "source": [
        "Q6. Is it possible to use list comprehension with a string? If so, how can you go about doing it?"
      ],
      "metadata": {
        "id": "vAxZoFjn4phY"
      }
    },
    {
      "cell_type": "markdown",
      "source": [
        "**Answer**"
      ],
      "metadata": {
        "id": "jQq7PGxl4tOq"
      }
    },
    {
      "cell_type": "code",
      "source": [
        "s = \"sample\"\n",
        "l5 = [i for i in s]\n",
        "print(s)"
      ],
      "metadata": {
        "colab": {
          "base_uri": "https://localhost:8080/"
        },
        "id": "Rmw0H6EG7Jx3",
        "outputId": "09a833db-4575-4531-a11b-96665c574e9f"
      },
      "execution_count": 6,
      "outputs": [
        {
          "output_type": "stream",
          "name": "stdout",
          "text": [
            "sample\n"
          ]
        }
      ]
    },
    {
      "cell_type": "markdown",
      "source": [
        "Q7. From the command line, how do you get support with a user-written Python programme? Is this possible from inside IDLE?"
      ],
      "metadata": {
        "id": "vKtEy-x74tbx"
      }
    },
    {
      "cell_type": "markdown",
      "source": [
        "**Answer**\n",
        "\n",
        "Get support with a user-written Python Programme: Start a command prompt (Windows) or terminal window (Linux/Mac). If the current working directory is the same as the location in which you saved the file, you can simply specify the filename as a command-line argument to the Python interpreter. eg: python \"filename.py\"\n",
        "\n",
        "Get support with a User-written Python Program from IDLE: You can also create script files and run them in IDLE. From the Shell window menu, select File → New File. That should open an additional editing window. Type in the code to be executed. From the menu in that window, select File → Save or File → Save As… and save the file to disk. Then select Run → Run Module. The output should appear back in the interpreter"
      ],
      "metadata": {
        "id": "fXAFZeEI4v-A"
      }
    },
    {
      "cell_type": "markdown",
      "source": [
        "Q8. Functions are said to be “first-class objects” in Python but not in most other languages, such as C++ or Java. What can you do in Python with a function (callable object) that you can't do in C or C++?"
      ],
      "metadata": {
        "id": "6Yll7UYr4wL4"
      }
    },
    {
      "cell_type": "markdown",
      "source": [
        "**Answer**\n",
        "\n",
        "The tasks which can be performed with the functions in python are:\n",
        "\n",
        "A function is an instance of the Object type.\n",
        "\n",
        "You can store the function in a variable.\n",
        "\n",
        "You can pass the function as a parameter to another function.\n",
        "\n",
        "You can return the function from a function.\n",
        "\n",
        "You can store them in data structures such as hash tables, lists"
      ],
      "metadata": {
        "id": "S7bU5s1G4y1j"
      }
    },
    {
      "cell_type": "markdown",
      "source": [
        "Q9. How do you distinguish between a wrapper, a wrapped feature, and a decorator?"
      ],
      "metadata": {
        "id": "CPveEJLF4zBh"
      }
    },
    {
      "cell_type": "markdown",
      "source": [
        "**Answer**\n",
        "\n",
        "Wrappers Around the functions are known as Decrators."
      ],
      "metadata": {
        "id": "q0AC99Cx411v"
      }
    },
    {
      "cell_type": "markdown",
      "source": [
        "Q10. If a function is a generator function, what does it return?"
      ],
      "metadata": {
        "id": "SwMLYRAZ42Ca"
      }
    },
    {
      "cell_type": "markdown",
      "source": [
        "**Answer**\n",
        "\n",
        "A generator is a special type of function which does not return a single value, instead, it returns an iterator object with a sequence of values"
      ],
      "metadata": {
        "id": "f9hsvQiD45TE"
      }
    },
    {
      "cell_type": "markdown",
      "source": [
        "Q11. What is the one improvement that must be made to a function in order for it to become a generator function in the Python language?"
      ],
      "metadata": {
        "id": "azPDvZD245gG"
      }
    },
    {
      "cell_type": "markdown",
      "source": [
        "**Answer**\n",
        "\n",
        "Generator is a written as normal function but uses yield keyword to return values instead of return keyword."
      ],
      "metadata": {
        "id": "z4PpAujT473V"
      }
    },
    {
      "cell_type": "markdown",
      "source": [
        "Q12. Identify at least one benefit of generators."
      ],
      "metadata": {
        "id": "Yx3b8lhK48JR"
      }
    },
    {
      "cell_type": "markdown",
      "source": [
        "**Answer**\n",
        "\n",
        "return statement sends a specified value back to its caller whereas yield statment can produce a sequence of values. We should use generator when we want to iterate over a sequence, but don’t want to store the entire sequence in memory."
      ],
      "metadata": {
        "id": "sK3e93T64-yU"
      }
    }
  ]
}