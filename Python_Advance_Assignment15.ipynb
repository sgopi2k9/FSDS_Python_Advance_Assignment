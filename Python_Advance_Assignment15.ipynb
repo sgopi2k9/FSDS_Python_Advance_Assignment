{
  "nbformat": 4,
  "nbformat_minor": 0,
  "metadata": {
    "colab": {
      "name": "Python_Advance_Assignment15.ipynb",
      "provenance": [],
      "collapsed_sections": []
    },
    "kernelspec": {
      "name": "python3",
      "display_name": "Python 3"
    },
    "language_info": {
      "name": "python"
    }
  },
  "cells": [
    {
      "cell_type": "markdown",
      "source": [
        "Q1.What are the new features added in Python 3.8 version?"
      ],
      "metadata": {
        "id": "GBYh2WuA-wDG"
      }
    },
    {
      "cell_type": "markdown",
      "source": [
        "**Answer**\n",
        "\n",
        "Following are the new features in Python 3.8\n",
        "\n",
        "1.We can combine print and assignment statement\n",
        "\n",
        "print(t:='test')\n",
        "\n",
        "2.To get input continuously until quit is entered we can code as follows\n",
        "\n",
        "inputs = list()\n",
        "\n",
        "while (current := input(\"Write something: \")) != \"quit\":\n",
        "  \n",
        "  inputs.append(current)\n",
        "\n",
        "3.we can specify positional arguement\n",
        "\n",
        "def greet(name, /):\n",
        "\n",
        "4.We can provide a equal to = so that value can be printed\n",
        "\n",
        "python = 3.8\n",
        "\n",
        "f\"{python=}\"\n",
        "\n",
        "5.using prod function we can specify integers to perform multiplication\n",
        "\n",
        "math.prod((2, 8, 7, 7))\n",
        "\n"
      ],
      "metadata": {
        "id": "NM3UFf8u-zRy"
      }
    },
    {
      "cell_type": "markdown",
      "source": [
        "Q2.What is monkey patching in Python?"
      ],
      "metadata": {
        "id": "HjoIRGsN-zfI"
      }
    },
    {
      "cell_type": "markdown",
      "source": [
        "**Answer**\n",
        "\n",
        "In Python, the term monkey patch refers to dynamic (or run-time) modifications of a class or module.We can change the behavior of code at run time"
      ],
      "metadata": {
        "id": "cmxdw7RR-2dO"
      }
    },
    {
      "cell_type": "markdown",
      "source": [
        "Q3.What is the difference between a shallow copy and deep copy?"
      ],
      "metadata": {
        "id": "_P2Drrmk-2qp"
      }
    },
    {
      "cell_type": "markdown",
      "source": [
        "**Answer**\n",
        "\n",
        ". In case of deep copy, a copy of object is copied in other object. It means that any changes made to a copy of object do not reflect in the original object.\n",
        "\n",
        "In case of shallow copy, a reference of object is copied in other object. It means that any changes made to a copy of object do reflect in the original object."
      ],
      "metadata": {
        "id": "Ti-o6tyh-7Z0"
      }
    },
    {
      "cell_type": "markdown",
      "source": [
        "Q4.What is the maximum possible length of an identifier?"
      ],
      "metadata": {
        "id": "Jy4axSPH-7oS"
      }
    },
    {
      "cell_type": "markdown",
      "source": [
        "**Answer**\n",
        "\n",
        "In Python, the highest possible length of an identifier is 79 characters."
      ],
      "metadata": {
        "id": "RviXS0xV--4h"
      }
    },
    {
      "cell_type": "markdown",
      "source": [
        "Q5.What is generator comprehension?"
      ],
      "metadata": {
        "id": "u3ut4VMm-_Fz"
      }
    },
    {
      "cell_type": "markdown",
      "source": [
        "**Answer**\n",
        "\n",
        "A generator comprehension is a single-line specification for defining a generator in Python.\n",
        "\n",
        "It is absolutely essential to learn this syntax in order to write simple and readable code.\n",
        "\n",
        "Generator comprehension uses round bracket unlike square bracket in list comprehension.\n",
        "\n",
        "The generator yields one item at a time and generates item only when in demand. Whereas, in a list comprehension, Python reserves memory for the whole list. \n",
        "\n",
        "Thus we can say that the generator expressions are memory efficient than the lists."
      ],
      "metadata": {
        "id": "olZKVYhp_Bwy"
      }
    },
    {
      "cell_type": "code",
      "source": [
        "in_list = [x for x in range(10)] # List Comprehension\n",
        "print(in_list)\n",
        "out_gen = (x for x in in_list if x%2 == 0) # Generator Comprehension\n",
        "print(out_gen) \n",
        "for ele in out_gen:\n",
        "    print(ele, end=\" \")"
      ],
      "metadata": {
        "colab": {
          "base_uri": "https://localhost:8080/"
        },
        "id": "R16q5bs2E2Gu",
        "outputId": "ba1a1f33-0c87-4fe3-a129-f266defd5f2e"
      },
      "execution_count": 2,
      "outputs": [
        {
          "output_type": "stream",
          "name": "stdout",
          "text": [
            "[0, 1, 2, 3, 4, 5, 6, 7, 8, 9]\n",
            "<generator object <genexpr> at 0x7faa76d39050>\n",
            "0 2 4 6 8 "
          ]
        }
      ]
    }
  ]
}