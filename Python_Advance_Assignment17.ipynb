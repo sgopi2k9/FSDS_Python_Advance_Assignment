{
  "nbformat": 4,
  "nbformat_minor": 0,
  "metadata": {
    "colab": {
      "name": "Python_Advance_Assignment17.ipynb",
      "provenance": [],
      "collapsed_sections": []
    },
    "kernelspec": {
      "name": "python3",
      "display_name": "Python 3"
    },
    "language_info": {
      "name": "python"
    }
  },
  "cells": [
    {
      "cell_type": "markdown",
      "source": [
        "Q1. Explain the difference between greedy and non-greedy syntax with visual terms in as few words as possible. What is the bare minimum effort required to transform a greedy pattern into a non-greedy one? What characters or characters can you introduce or change?"
      ],
      "metadata": {
        "id": "0GOFeKoCiMA9"
      }
    },
    {
      "cell_type": "markdown",
      "source": [
        "**Answer**\n",
        "\n",
        "Greedy syntax matches as much as possible.\n",
        "\n",
        "Non-Greedy syntax matches as little as possible.\n",
        "\n",
        "**Example**\n",
        "\n",
        "Source string: AA < div > test1 < / div > BB < div > test2 < / div > CC\n",
        "\n",
        "Regular expression 1: < div >. * < / div >\n",
        "\n",
        "Matching result 1: < div > test1 < / div > BB < div > test2 < / div > This matches for all the text \n",
        "\n",
        "Regular expression 2: < div >. *? < / div >\n",
        "\n",
        "Matching result 2: < div > test1 < / div > This matches for only the first match others are not matched.\n",
        "\n",
        "Additional characters ? can be used to convert greedy to non-greedy pattern"
      ],
      "metadata": {
        "id": "-z_lGBIQiOti"
      }
    },
    {
      "cell_type": "markdown",
      "source": [
        "Q2. When exactly does greedy versus non-greedy make a difference?  What if you're looking for a non-greedy match but the only one available is greedy?"
      ],
      "metadata": {
        "id": "4hdF4AZgkR2s"
      }
    },
    {
      "cell_type": "markdown",
      "source": [
        "**Answer**\n",
        "\n",
        "Greedy and non-greedy makes a difference only when more than 1 match is present in the search string. If only 1 matching pattern is present then there is no difference between greedy and non-greedy pattern."
      ],
      "metadata": {
        "id": "lkvYwv_EkWzn"
      }
    },
    {
      "cell_type": "markdown",
      "source": [
        "Q3. In a simple match of a string, which looks only for one match and does not do any replacement, is the use of a nontagged group likely to make any practical difference?"
      ],
      "metadata": {
        "id": "Uwsry0ZAkpS5"
      }
    },
    {
      "cell_type": "markdown",
      "source": [
        "**Answer**\n",
        "\n",
        "In this case non tagged group will not make any difference"
      ],
      "metadata": {
        "id": "D2fTkSDpktSF"
      }
    },
    {
      "cell_type": "code",
      "source": [
        "import re\n",
        "phoneregex = re.compile(r\"\\d\\d\\d\")\n",
        "s = \"My number is 123-456-7890\"\n",
        "num = phoneregex.search(s)\n",
        "print(num.group()) # Non tagged group\n",
        "print(num.group(0)) # Tagged group"
      ],
      "metadata": {
        "colab": {
          "base_uri": "https://localhost:8080/"
        },
        "id": "lEdJIIJck9nb",
        "outputId": "b9a234ef-8373-42c3-8a6d-557aa30b43aa"
      },
      "execution_count": 1,
      "outputs": [
        {
          "output_type": "stream",
          "name": "stdout",
          "text": [
            "123\n",
            "123\n"
          ]
        }
      ]
    },
    {
      "cell_type": "markdown",
      "source": [
        "Q4. Describe a scenario in which using a nontagged category would have a significant impact on the program's outcomes."
      ],
      "metadata": {
        "id": "_5stW99Zlhlb"
      }
    },
    {
      "cell_type": "markdown",
      "source": [
        "**Answer**\n",
        "\n",
        "Here in the below Code Snippet . decimal is not tagged or captured. It will useful in scenarios where the separator of value in a string is of no use and we need to capture only the values."
      ],
      "metadata": {
        "id": "UHgUqCQHlkZt"
      }
    },
    {
      "cell_type": "code",
      "source": [
        "import re\n",
        "text='135.456'\n",
        "pattern=r'(\\d+)(?:.)(\\d+)'\n",
        "regobj=re.compile(pattern)\n",
        "matobj=regobj.search(text)\n",
        "matobj.groups()"
      ],
      "metadata": {
        "colab": {
          "base_uri": "https://localhost:8080/"
        },
        "id": "PEmmFriel3Rz",
        "outputId": "e0efbb89-9d2b-4182-f192-2cef0fe64cc6"
      },
      "execution_count": 2,
      "outputs": [
        {
          "output_type": "execute_result",
          "data": {
            "text/plain": [
              "('135', '456')"
            ]
          },
          "metadata": {},
          "execution_count": 2
        }
      ]
    },
    {
      "cell_type": "markdown",
      "source": [
        "Q5. Unlike a normal regex pattern, a look-ahead condition does not consume the characters it examines. Describe a situation in which this could make a difference in the results of your programme."
      ],
      "metadata": {
        "id": "IcsnFgaJl-o9"
      }
    },
    {
      "cell_type": "markdown",
      "source": [
        "**Answer**\n",
        "\n",
        "While counting the number of multiple lines or mutiple sentence in a string the positive look ahead makes a difference, without which we wont get the correct count of lines or sentences in a string."
      ],
      "metadata": {
        "id": "BJeJk45ql_iR"
      }
    },
    {
      "cell_type": "markdown",
      "source": [
        "Q6. In standard expressions, what is the difference between positive look-ahead and negative look-ahead?"
      ],
      "metadata": {
        "id": "sqS2NrWlmJe8"
      }
    },
    {
      "cell_type": "markdown",
      "source": [
        "**Answer**\n",
        "\n",
        "Positive Lookahead allows to add a condition for what follows. Negative Lookahead is similar, but it looks behind. That is, it allows to match a pattern only if there’s something before it."
      ],
      "metadata": {
        "id": "I7L0afAHmO4L"
      }
    },
    {
      "cell_type": "markdown",
      "source": [
        "Q7. What is the benefit of referring to groups by name rather than by number in a standard expression?"
      ],
      "metadata": {
        "id": "XzF_7hSwmVlk"
      }
    },
    {
      "cell_type": "markdown",
      "source": [
        "**Answer**\n",
        "\n",
        "Referring to groups by name rather than by number in a standard expression helps to keep the code clear and easy to understand.\n",
        "\n"
      ],
      "metadata": {
        "id": "8J3ID27DmY42"
      }
    },
    {
      "cell_type": "markdown",
      "source": [
        "Q8. Can you identify repeated items within a target string using named groups, as in \"The cow jumped over the moon\"?"
      ],
      "metadata": {
        "id": "bhYruRCqmgrQ"
      }
    },
    {
      "cell_type": "markdown",
      "source": [
        "**Answer**\n",
        "\n"
      ],
      "metadata": {
        "id": "nOzjb5kFmjFl"
      }
    },
    {
      "cell_type": "code",
      "source": [
        "import re\n",
        "text = \"The cow jumped over the moon\"\n",
        "regobj=re.compile(r'(?P<w1>The)',re.I)\n",
        "regobj.findall(text)"
      ],
      "metadata": {
        "colab": {
          "base_uri": "https://localhost:8080/"
        },
        "id": "cOYT9_WnmtlW",
        "outputId": "c3f8a053-0acc-485d-fad7-620c22533d5d"
      },
      "execution_count": 3,
      "outputs": [
        {
          "output_type": "execute_result",
          "data": {
            "text/plain": [
              "['The', 'the']"
            ]
          },
          "metadata": {},
          "execution_count": 3
        }
      ]
    },
    {
      "cell_type": "markdown",
      "source": [
        "Q9. When parsing a string, what is at least one thing that the Scanner interface does for you that the re.findall feature does not?"
      ],
      "metadata": {
        "id": "l61qgc99mvqm"
      }
    },
    {
      "cell_type": "markdown",
      "source": [
        "**Answer**\n",
        "\n",
        "re.findall() module is used to search for all occurrences that match a given pattern. In contrast, re.search() will only return the first occurrence that matches the specified pattern. re.findall() will iterate over all the lines of the file and will return all non-overlapping matches of pattern in a single step."
      ],
      "metadata": {
        "id": "n5mwnCLanEc9"
      }
    },
    {
      "cell_type": "markdown",
      "source": [
        "Q10. Does a scanner object have to be named scanner?"
      ],
      "metadata": {
        "id": "kUr4B7MjnGKX"
      }
    },
    {
      "cell_type": "markdown",
      "source": [
        "**Answer**\n",
        "\n",
        "Yes it can have any name"
      ],
      "metadata": {
        "id": "D4v9eltYnJIU"
      }
    }
  ]
}