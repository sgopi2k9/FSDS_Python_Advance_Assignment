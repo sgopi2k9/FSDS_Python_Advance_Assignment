{
  "nbformat": 4,
  "nbformat_minor": 0,
  "metadata": {
    "colab": {
      "name": "Python_Advance_Assignment18.ipynb",
      "provenance": []
    },
    "kernelspec": {
      "name": "python3",
      "display_name": "Python 3"
    },
    "language_info": {
      "name": "python"
    }
  },
  "cells": [
    {
      "cell_type": "markdown",
      "source": [
        "Q1. Describe the differences between text and binary files in a single paragraph."
      ],
      "metadata": {
        "id": "653jQ617AuZy"
      }
    },
    {
      "cell_type": "markdown",
      "source": [
        "**Answer**\n",
        "\n",
        "**Text file**\n",
        "\n",
        "Bits represents character\n",
        "\n",
        "Less prone to get corrupt as changes reflect as soon as the file is opened and can easily be undone.\n",
        "\n",
        "Can store only plain text in a file.\n",
        "\n",
        "Mostly .txt and .rtf are used as extensions to text files.\n",
        "\n",
        "**Binary file**\n",
        "\n",
        "Bits represent custom data\n",
        "\n",
        "Can easily get corrupted, even a single bit change may corrupt the file.\n",
        "\n",
        "Can store different types of data (image, audio, text) in a single file.\n",
        "\n",
        "Can have any application defined extension."
      ],
      "metadata": {
        "id": "zLyGx3-2A7z1"
      }
    },
    {
      "cell_type": "markdown",
      "source": [
        "Q2. What are some scenarios where using text files will be the better option? When would you like to use binary files instead of text files?\n"
      ],
      "metadata": {
        "id": "SPaSPF3DBpCD"
      }
    },
    {
      "cell_type": "markdown",
      "source": [
        "**Answer**\n",
        "\n",
        "When we want to deal only with text data , text files wil be a better option. When we need to deal with multiple type of data such as image, text and video then binary files will be a better option"
      ],
      "metadata": {
        "id": "9d7I5qx4BraC"
      }
    },
    {
      "cell_type": "markdown",
      "source": [
        "Q3. What are some of the issues with using binary operations to read and write a Python integer directly to disc?\n"
      ],
      "metadata": {
        "id": "UJyEj5TgCDcx"
      }
    },
    {
      "cell_type": "markdown",
      "source": [
        "**Answer**\n",
        "\n",
        "When we read or write a python integer using binary operations\n",
        "\n",
        "Binary operations deal with raw data\n",
        "One needs to identify how many bytes one would read or write."
      ],
      "metadata": {
        "id": "3Aec844nCGYy"
      }
    },
    {
      "cell_type": "markdown",
      "source": [
        "Q4. Describe a benefit of using the with keyword instead of explicitly opening a file.\n"
      ],
      "metadata": {
        "id": "1kXR5f4FCrPY"
      }
    },
    {
      "cell_type": "markdown",
      "source": [
        "**Answer**\n",
        "\n",
        "There is no need to call file.close() when using with statement. The with statement itself ensures proper acquisition and release of resources\n"
      ],
      "metadata": {
        "id": "GnDoTjVLCuTd"
      }
    },
    {
      "cell_type": "markdown",
      "source": [
        "Q5. Does Python have the trailing newline while reading a line of text? Does Python append a newline when you write a line of text?\n"
      ],
      "metadata": {
        "id": "h8sVM-CtDEll"
      }
    },
    {
      "cell_type": "markdown",
      "source": [
        "**Answer**\n",
        "\n",
        "Yes, Python have the trailing newline while reading a line of text. When we write a newline has to be provided in python excpicitly."
      ],
      "metadata": {
        "id": "kwI3jIwsDHiS"
      }
    },
    {
      "cell_type": "markdown",
      "source": [
        "Q6. What file operations enable for random-access operation?\n"
      ],
      "metadata": {
        "id": "-RHjXZqRDP5g"
      }
    },
    {
      "cell_type": "markdown",
      "source": [
        "**Answer**\n",
        "\n",
        "The file operations enable for random-access operation are seek() and tell()"
      ],
      "metadata": {
        "id": "7FTbW8LODSjt"
      }
    },
    {
      "cell_type": "markdown",
      "source": [
        "Q7. When do you think you'll use the struct package the most?\n"
      ],
      "metadata": {
        "id": "ZK24cru1Dmw7"
      }
    },
    {
      "cell_type": "markdown",
      "source": [
        "**Answer**\n",
        "\n",
        "Struct module performs conversions between Python values and C structs represented as Python bytes objects. "
      ],
      "metadata": {
        "id": "Ew-JrMVlDpZJ"
      }
    },
    {
      "cell_type": "markdown",
      "source": [
        "Q8. When is pickling the best option?\n"
      ],
      "metadata": {
        "id": "f1u-NUnwEDzs"
      }
    },
    {
      "cell_type": "markdown",
      "source": [
        "**Answer**\n",
        "\n",
        "Python provides pickle modules for Serialization and de-Serialization of python objects like lists, dictionaries, tuples, etc.  Pickling is used to store python objects.\n",
        "\n"
      ],
      "metadata": {
        "id": "9cJrBbAqEHgT"
      }
    },
    {
      "cell_type": "markdown",
      "source": [
        "Q9. When will it be best to use the shelve package?\n"
      ],
      "metadata": {
        "id": "tpPlN5_OEbVK"
      }
    },
    {
      "cell_type": "markdown",
      "source": [
        "**Answer**\n",
        "\n",
        "Shelve package is used to pickle data but treats the entire file as dictionary."
      ],
      "metadata": {
        "id": "VyM7Rt51EeQb"
      }
    },
    {
      "cell_type": "markdown",
      "source": [
        "Q10. What is a special restriction when using the shelve package, as opposed to using other data dictionaries?\n"
      ],
      "metadata": {
        "id": "YabFRcZxEznO"
      }
    },
    {
      "cell_type": "markdown",
      "source": [
        "**Answer**\n",
        "\n",
        "Only string data type can be used as key in this special dictionary object, whereas any picklable Python object can be used as value."
      ],
      "metadata": {
        "id": "45ihxy7JE2fx"
      }
    }
  ]
}