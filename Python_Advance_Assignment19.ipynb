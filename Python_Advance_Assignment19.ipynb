{
  "nbformat": 4,
  "nbformat_minor": 0,
  "metadata": {
    "colab": {
      "name": "Python_Advance_Assignment19.ipynb",
      "provenance": [],
      "collapsed_sections": []
    },
    "kernelspec": {
      "name": "python3",
      "display_name": "Python 3"
    },
    "language_info": {
      "name": "python"
    }
  },
  "cells": [
    {
      "cell_type": "markdown",
      "source": [
        "Q1. Define the relationship between a class and its instances. Is it a one-to-one or a one-to-many partnership, for example?"
      ],
      "metadata": {
        "id": "PO_BjGPCFu_q"
      }
    },
    {
      "cell_type": "markdown",
      "source": [
        "**Answer**\n",
        "\n",
        "There exist a one to many relationship between class and its instances. For example we can create any number of objects for a single class. Each object has its own memory and attributes and methods. Changing value in one object does not affect the other."
      ],
      "metadata": {
        "id": "traLQtkpF2bF"
      }
    },
    {
      "cell_type": "markdown",
      "source": [
        "Q2. What kind of data is held only in an instance?\n"
      ],
      "metadata": {
        "id": "JVWVt0XIGY9U"
      }
    },
    {
      "cell_type": "markdown",
      "source": [
        "**Answer**\n",
        "\n",
        "Instance objects contains the Instance variables which are specific to that specific Instance object."
      ],
      "metadata": {
        "id": "NTJNX6owGbFi"
      }
    },
    {
      "cell_type": "markdown",
      "source": [
        "Q3. What kind of knowledge is stored in a class?\n"
      ],
      "metadata": {
        "id": "9JzH256xGh1f"
      }
    },
    {
      "cell_type": "markdown",
      "source": [
        "**Answer**\n",
        "\n",
        "Class creates a user-defined data structure, which holds its own data members and member functions, which can be accessed and used by creating an instance of that class. A class is like a blueprint for an object."
      ],
      "metadata": {
        "id": "EyASwLHjGkJK"
      }
    },
    {
      "cell_type": "markdown",
      "source": [
        "Q4. What exactly is a method, and how is it different from a regular function?"
      ],
      "metadata": {
        "id": "O5cEpU7TGoQy"
      }
    },
    {
      "cell_type": "markdown",
      "source": [
        "**Answer**\n",
        "\n",
        "**Method**\n",
        "Method is called by its name, but it is associated to an object (dependent).\n",
        "A method is implicitly passed the object on which it is invoked.\n",
        "It may or may not return any data.\n",
        "A method can operate on the data (instance variables) that is contained by the corresponding class\n",
        "\n",
        "**Function**\n",
        "Function is block of code that is also called by its name. (independent)\n",
        "The function can have different parameters or may not have any at all. If any data (parameters) are passed, they are passed explicitly.\n",
        "It may or may not return any data.\n",
        "Function does not deal with Class and its instance concept."
      ],
      "metadata": {
        "id": "xRAYg4M5GrWw"
      }
    },
    {
      "cell_type": "markdown",
      "source": [
        "Q5. Is inheritance supported in Python, and if so, what is the syntax?"
      ],
      "metadata": {
        "id": "_pZzzTQhHOvU"
      }
    },
    {
      "cell_type": "markdown",
      "source": [
        "**Answer**\n",
        "\n",
        "Yes inheritance is supported in python.\n",
        "\n",
        "class A:\n",
        "  \n",
        "  pass\n",
        "\n",
        "class B(A): # we are inheriting class A\n",
        "  \n",
        "  pass"
      ],
      "metadata": {
        "id": "CbsNgdg-HRgt"
      }
    },
    {
      "cell_type": "markdown",
      "source": [
        "Q6. How much encapsulation (making instance or class variables private) does Python support?"
      ],
      "metadata": {
        "id": "j9tCncW0HsXM"
      }
    },
    {
      "cell_type": "markdown",
      "source": [
        "**Answer**\n",
        "\n",
        "Encapsulation describes the idea of wrapping data and the methods that work on data within one unit. This puts restrictions on accessing variables and methods directly and can prevent the accidental modification of data. To prevent accidental change, an objects variable can only be changed by an objects method."
      ],
      "metadata": {
        "id": "OTaj_7zJHwCM"
      }
    },
    {
      "cell_type": "markdown",
      "source": [
        "Q7. How do you distinguish between a class variable and an instance variable?\n"
      ],
      "metadata": {
        "id": "AB8dRLqJH7ps"
      }
    },
    {
      "cell_type": "markdown",
      "source": [
        "**Answer**\n",
        "\n",
        "The Class Attribute is available to all the instance objects of that class. whereas Instance Attributes are accessible only to the object or Instance of that class."
      ],
      "metadata": {
        "id": "zBCYgjS5H-ZW"
      }
    },
    {
      "cell_type": "markdown",
      "source": [
        "Q8. When, if ever, can self be included in a class's method definitions?\n"
      ],
      "metadata": {
        "id": "YcEeii00IGNm"
      }
    },
    {
      "cell_type": "markdown",
      "source": [
        "**Answer**\n",
        "\n",
        "Yes, self can included in class method definations to access the instance variables inside class methods."
      ],
      "metadata": {
        "id": "9SQtBRhoIJvf"
      }
    },
    {
      "cell_type": "markdown",
      "source": [
        "Q9. What is the difference between the _ _add_ _ and the _ _radd_ _ methods?\n"
      ],
      "metadata": {
        "id": "96hrQQaAIQhQ"
      }
    },
    {
      "cell_type": "markdown",
      "source": [
        "**Answer**\n",
        "\n",
        "Entering __radd__ Python will first try __add__(), and if that returns Not Implemented Python will check if the right-hand operand implements __radd__, and if it does, it will call __radd__() rather than raising a TypeError"
      ],
      "metadata": {
        "id": "oqhtFra0ITyk"
      }
    },
    {
      "cell_type": "markdown",
      "source": [
        "Q10. When is it necessary to use a reflection method? When do you not need it, even though you support the operation in question?\n"
      ],
      "metadata": {
        "id": "Q4zU8ahgIpX8"
      }
    },
    {
      "cell_type": "markdown",
      "source": [
        "**Answer**\n",
        "\n",
        "Reflection method we often encounter the requirement that a method in the executing object, or a variable in the calling object, or a field of the object should be assigned, while the method name or field name can not be determined when encoding the code, and need to be input in the form of passing strings through parameters."
      ],
      "metadata": {
        "id": "-6jv3in_Isja"
      }
    },
    {
      "cell_type": "markdown",
      "source": [
        "Q11. What is the _ _iadd_ _ method called?\n"
      ],
      "metadata": {
        "id": "EBrSXURJJElL"
      }
    },
    {
      "cell_type": "markdown",
      "source": [
        "**Answer**\n",
        "\n",
        "The Python __iadd__() magic method implements in-place addition x += y that adds together the operands and assigns the result to the left operand. This operation is also called augmented arithmetic assignment. The method simply returns the new value to be assigned to the first operand."
      ],
      "metadata": {
        "id": "DDfPp7F0JGxM"
      }
    },
    {
      "cell_type": "markdown",
      "source": [
        "Q12. Is the _ _init_ _ method inherited by subclasses? What do you do if you need to customize its behavior within a subclass?\n"
      ],
      "metadata": {
        "id": "rKhQmNB_JY82"
      }
    },
    {
      "cell_type": "markdown",
      "source": [
        "**Answer**\n",
        "\n",
        "Yes, __init__ method will be inherited by subclasses. if we want to customize its behaviour within a subclass we can use super() method."
      ],
      "metadata": {
        "id": "hPcP_mErJdGY"
      }
    }
  ]
}