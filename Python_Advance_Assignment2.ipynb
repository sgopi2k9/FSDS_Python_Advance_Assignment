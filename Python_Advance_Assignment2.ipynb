{
  "nbformat": 4,
  "nbformat_minor": 0,
  "metadata": {
    "colab": {
      "name": "Python_Advance_Assignment2.ipynb",
      "provenance": [],
      "collapsed_sections": []
    },
    "kernelspec": {
      "name": "python3",
      "display_name": "Python 3"
    },
    "language_info": {
      "name": "python"
    }
  },
  "cells": [
    {
      "cell_type": "markdown",
      "source": [
        "Q1. What is the relationship between classes and modules?"
      ],
      "metadata": {
        "id": "qJ8UhkICml2Y"
      }
    },
    {
      "cell_type": "markdown",
      "source": [
        "**Answer** The difference between a class and a module in python is that a class is used to define a blueprint for a given object, whereas a module is used to reuse a given piece of code inside another program. Using module we can import the classes and methods in another package and use them."
      ],
      "metadata": {
        "id": "0k1jHM89mrHt"
      }
    },
    {
      "cell_type": "markdown",
      "source": [
        "Q2. How do you make instances and classes?"
      ],
      "metadata": {
        "id": "wQjTqTkbm37Q"
      }
    },
    {
      "cell_type": "markdown",
      "source": [
        "**Answer** For defining classes we need to use class keyword and for making instances we need to call the class name\n",
        "\n",
        "For eg: creating a class\n",
        "\n",
        "class test:\n",
        "  pass\n",
        "\n",
        "*creating instance of class test\n",
        "\n",
        "t = test()"
      ],
      "metadata": {
        "id": "LD_Nds5tnDO3"
      }
    },
    {
      "cell_type": "markdown",
      "source": [
        "Q3. Where and how should be class attributes created?\n"
      ],
      "metadata": {
        "id": "PgT5vIB0oMTS"
      }
    },
    {
      "cell_type": "markdown",
      "source": [
        "**Answer** A class attribute is created by defining a variable outside the function and is shared by all class methods\n",
        "\n",
        "\n",
        "class test:\n",
        "  count = 0   # class attribute"
      ],
      "metadata": {
        "id": "3P5CTZ_IoQBH"
      }
    },
    {
      "cell_type": "markdown",
      "source": [
        "Q4. Where and how are instance attributes created?\n"
      ],
      "metadata": {
        "id": "a8NJYrH_pkHw"
      }
    },
    {
      "cell_type": "markdown",
      "source": [
        "**Answer** Insstance attributes are defined within a class __init__ and functions.\n",
        "\n",
        "vars() - list all the variables of the instance\n",
        "dir() - list all the functions of the instance "
      ],
      "metadata": {
        "id": "tfOegnDHpm6u"
      }
    },
    {
      "cell_type": "markdown",
      "source": [
        "Q5. What does the term \"self\" in a Python class mean?\n"
      ],
      "metadata": {
        "id": "gUEN_z5HqP0O"
      }
    },
    {
      "cell_type": "markdown",
      "source": [
        "**Answer** self represents the instance of the class. By using the “self” keyword we can access the attributes and methods of the class in python. It binds the attributes with the given arguments"
      ],
      "metadata": {
        "id": "KLy32tSAqP8u"
      }
    },
    {
      "cell_type": "markdown",
      "source": [
        "Q6. How does a Python class handle operator overloading?"
      ],
      "metadata": {
        "id": "HPnDfFP_qeiS"
      }
    },
    {
      "cell_type": "markdown",
      "source": [
        "**Answer** The operator overloading in Python means provide extended meaning beyond their predefined operational meaning. Such as, we use the \"+\" operator for adding two integers as well as joining two strings or merging two lists. We can achieve this as the \"+\" operator is overloaded by the \"int\" class and \"str\" class."
      ],
      "metadata": {
        "id": "NkVx_S8Tqitb"
      }
    },
    {
      "cell_type": "markdown",
      "source": [
        "Q7. When do you consider allowing operator overloading of your classes?"
      ],
      "metadata": {
        "id": "GCcaKlbQq7M4"
      }
    },
    {
      "cell_type": "markdown",
      "source": [
        "**Answer** when we want to use same operation to be performed for different data types we can use operator overloading of class."
      ],
      "metadata": {
        "id": "2zYhD0azq-kx"
      }
    },
    {
      "cell_type": "markdown",
      "source": [
        "Q8. What is the most popular form of operator overloading?"
      ],
      "metadata": {
        "id": "7K74FPpMrVO9"
      }
    },
    {
      "cell_type": "markdown",
      "source": [
        "**Answer** + is the most popular form of operator overloading. When we use + operator, the method __add__ is automatically invoked in which the operation for + operator is defined"
      ],
      "metadata": {
        "id": "Fxrz2s3urYGy"
      }
    },
    {
      "cell_type": "markdown",
      "source": [
        "Q9. What are the two most important concepts to grasp in order to comprehend Python OOP code?\n"
      ],
      "metadata": {
        "id": "QVK404b_rtTw"
      }
    },
    {
      "cell_type": "markdown",
      "source": [
        "**Answer** classes and objects are the two important concept in python OOP code."
      ],
      "metadata": {
        "id": "lOxRXKcZrxJX"
      }
    }
  ]
}