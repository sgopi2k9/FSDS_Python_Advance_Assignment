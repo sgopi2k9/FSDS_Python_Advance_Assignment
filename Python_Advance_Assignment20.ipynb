{
  "nbformat": 4,
  "nbformat_minor": 0,
  "metadata": {
    "colab": {
      "name": "Python_Advance_Assignment20.ipynb",
      "provenance": []
    },
    "kernelspec": {
      "name": "python3",
      "display_name": "Python 3"
    },
    "language_info": {
      "name": "python"
    }
  },
  "cells": [
    {
      "cell_type": "markdown",
      "source": [
        "1.Compare and contrast the float and Decimal classes' benefits and drawbacks."
      ],
      "metadata": {
        "id": "kpdtzuvEt1NZ"
      }
    },
    {
      "cell_type": "markdown",
      "source": [
        "**Answer**\n",
        "\n",
        "1. Float class does not provide exact value , it provides approximation whereas decimal provides exact value\n",
        "2. When we need precision decimal is used\n",
        "3. Decimal uses string for initialization"
      ],
      "metadata": {
        "id": "pDkiYNsKt7D7"
      }
    },
    {
      "cell_type": "markdown",
      "source": [
        "2.Decimal('1.200') and Decimal('1.2') are two objects to consider. In what sense are these the same object? Are these just two ways of representing the exact same value, or do they correspond to different internal states?\n",
        "\n"
      ],
      "metadata": {
        "id": "00CfeclDt7PU"
      }
    },
    {
      "cell_type": "markdown",
      "source": [
        "**Answer**\n",
        "\n",
        "Both values are same. zeroes after decimal point does not have any meaning"
      ],
      "metadata": {
        "id": "xDwPVjfMt97C"
      }
    },
    {
      "cell_type": "markdown",
      "source": [
        "3.What happens if the equality of Decimal('1.200') and Decimal('1.2') is checked?\n"
      ],
      "metadata": {
        "id": "-y9daZ51t-PI"
      }
    },
    {
      "cell_type": "markdown",
      "source": [
        "**Answer**\n",
        "\n",
        "We get True as the asnwer when the equality is checked"
      ],
      "metadata": {
        "id": "dE-SZoysuAb4"
      }
    },
    {
      "cell_type": "markdown",
      "source": [
        "4.Why is it preferable to start a Decimal object with a string rather than a floating-point value?\n"
      ],
      "metadata": {
        "id": "yfDzFY9KuApJ"
      }
    },
    {
      "cell_type": "markdown",
      "source": [
        "**Answer**\n",
        "\n",
        "Decimal provides precise value and not approximate so the change of bugs is reduced so it is preferable to use decimal than float."
      ],
      "metadata": {
        "id": "F4yGcCAJuDQH"
      }
    },
    {
      "cell_type": "markdown",
      "source": [
        "5.In an arithmetic phrase, how simple is it to combine Decimal objects with integers?"
      ],
      "metadata": {
        "id": "Xoy5bT44uDbI"
      }
    },
    {
      "cell_type": "markdown",
      "source": [
        "**Answer**\n",
        "\n",
        "Decimal objects can be added with integers without any issue."
      ],
      "metadata": {
        "id": "Lw-4GpUEuGaS"
      }
    },
    {
      "cell_type": "markdown",
      "source": [
        "6.Can Decimal objects and floating-point values be combined easily?\n"
      ],
      "metadata": {
        "id": "TxEVsp3VuGlQ"
      }
    },
    {
      "cell_type": "markdown",
      "source": [
        "**Answer**\n",
        "\n",
        "Decimal and float objects will result in error unsupported operand type when we try to use addition, multiplication, substraction and division. The float object must be converted to decimal object."
      ],
      "metadata": {
        "id": "NWZ1pXvuuI4V"
      }
    },
    {
      "cell_type": "markdown",
      "source": [
        "7.Using the Fraction class but not the Decimal class, give an example of a quantity that can be expressed with absolute precision."
      ],
      "metadata": {
        "id": "-RQJMUWluJEQ"
      }
    },
    {
      "cell_type": "markdown",
      "source": [
        "**Answer**\n",
        "\n",
        "In fraction class, for example 0.5 decimal value will be represented as 1/2"
      ],
      "metadata": {
        "id": "gYanQ86vuMtw"
      }
    },
    {
      "cell_type": "markdown",
      "source": [
        "8.Describe a quantity that can be accurately expressed by the Decimal or Fraction classes but not by a floating-point value.\n"
      ],
      "metadata": {
        "id": "AH5tCvuyuNPD"
      }
    },
    {
      "cell_type": "markdown",
      "source": [
        "**Answer**\n",
        "\n",
        "print(float(0.1+0.1+0.1)) -> 0.30000000000000004\n",
        "print(Decimal('0.1')+Decimal('0.1')+Decimal('0.1')) -> 0.3\n",
        "print(Fraction('0.1')+Fraction('0.1')+Fraction('0.1')) -> 3/10"
      ],
      "metadata": {
        "id": "YXZ6w_uguPiy"
      }
    },
    {
      "cell_type": "markdown",
      "source": [
        "Q9.Consider the following two fraction objects: Fraction(1, 2) and Fraction(1, 2). (5, 10). Is the internal state of these two objects the same? Why do you think that is?"
      ],
      "metadata": {
        "id": "QzeYZfIsuPtT"
      }
    },
    {
      "cell_type": "markdown",
      "source": [
        "**Answer**\n",
        "\n",
        "The internal state of both are same because both will print 1/2 as the value"
      ],
      "metadata": {
        "id": "cH27KT8muTTy"
      }
    },
    {
      "cell_type": "markdown",
      "source": [
        "Q10. How do the Fraction class and the integer type (int) relate to each other? Containment or inheritance?\n"
      ],
      "metadata": {
        "id": "R9ZtuNj0uTfD"
      }
    },
    {
      "cell_type": "markdown",
      "source": [
        "**Answer**\n",
        "\n",
        " Fraction class and integer type(int) are related in form of a container.It contains two ints, one the numerator and the other the denominator"
      ],
      "metadata": {
        "id": "WLN1DxFduWJs"
      }
    }
  ]
}