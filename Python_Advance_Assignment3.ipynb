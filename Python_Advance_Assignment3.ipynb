{
  "nbformat": 4,
  "nbformat_minor": 0,
  "metadata": {
    "colab": {
      "name": "Python_Advance_Assignment3.ipynb",
      "provenance": [],
      "collapsed_sections": []
    },
    "kernelspec": {
      "name": "python3",
      "display_name": "Python 3"
    },
    "language_info": {
      "name": "python"
    }
  },
  "cells": [
    {
      "cell_type": "markdown",
      "source": [
        "1.What is the concept of an abstract superclass?"
      ],
      "metadata": {
        "id": "Nw651F_mtHF2"
      }
    },
    {
      "cell_type": "markdown",
      "source": [
        "**Answer** Abstract super class provides blueprint for other classes. An abstract super class contains abstract methods. The methods has only signature. The inheriting child class needs to implement these methods."
      ],
      "metadata": {
        "id": "tLo1c9TstKM7"
      }
    },
    {
      "cell_type": "markdown",
      "source": [
        "2.What happens when a class statement's top level contains a basic assignment statement?\n"
      ],
      "metadata": {
        "id": "90XFHq-Ptzhe"
      }
    },
    {
      "cell_type": "markdown",
      "source": [
        "**Answer** When a class statement's top level contains a basic assignment statement, the variable is shared by all functions and derived class."
      ],
      "metadata": {
        "id": "QMXT5CAdt3Y-"
      }
    },
    {
      "cell_type": "markdown",
      "source": [
        "3.Why does a class need to manually call a superclass's __init__ method?\n"
      ],
      "metadata": {
        "id": "ACnTycEVurZU"
      }
    },
    {
      "cell_type": "markdown",
      "source": [
        "**Answer** we need to call the super class init method to initialize some of the attributes which are not available in the derived class."
      ],
      "metadata": {
        "id": "P3CK4wF3uu5F"
      }
    },
    {
      "cell_type": "markdown",
      "source": [
        "4.How can you augment, instead of completely replacing, an inherited method?\n"
      ],
      "metadata": {
        "id": "v9MLmeuVwNPP"
      }
    },
    {
      "cell_type": "markdown",
      "source": [
        "**Answer** We can override the method in the parent class by defining our functionalities instead of replacing it completely."
      ],
      "metadata": {
        "id": "ogjIfn-5wOhd"
      }
    },
    {
      "cell_type": "markdown",
      "source": [
        "5.How is the local scope of a class different from that of a function?"
      ],
      "metadata": {
        "id": "79f4Y5YVwSk3"
      }
    },
    {
      "cell_type": "markdown",
      "source": [
        "**Answer** A variable defined within a class can be used by all the functions defined within the class. When a variable is defined within a function, it can be used only within the function but cannot be accessed outside that function."
      ],
      "metadata": {
        "id": "O-Sql0GlwT96"
      }
    }
  ]
}