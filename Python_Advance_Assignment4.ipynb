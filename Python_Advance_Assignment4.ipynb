{
  "nbformat": 4,
  "nbformat_minor": 0,
  "metadata": {
    "colab": {
      "name": "Python_Advance_Assignment4.ipynb",
      "provenance": [],
      "collapsed_sections": []
    },
    "kernelspec": {
      "name": "python3",
      "display_name": "Python 3"
    },
    "language_info": {
      "name": "python"
    }
  },
  "cells": [
    {
      "cell_type": "markdown",
      "source": [
        "Q1. Which two operator overloading methods can you use in your classes to support iteration?"
      ],
      "metadata": {
        "id": "9FLZY3--Tz2d"
      }
    },
    {
      "cell_type": "markdown",
      "source": [
        "**Answer** __iter__  and __next__ methods can be used in classes for iteration.\n",
        "\n",
        "\\_\\_iter\\_\\_ returns the iterator object and is called at the start of loop in our respective class.\n",
        "\n",
        "\\_\\_next\\_\\_ is called at each loop increment, it returns the incremented value. Also Stopiteration is raised when there is no value to return."
      ],
      "metadata": {
        "id": "01o1651qT5DK"
      }
    },
    {
      "cell_type": "markdown",
      "source": [
        "Q2. In what contexts do the two operator overloading methods manage printing?"
      ],
      "metadata": {
        "id": "cq2gS4kdUe3e"
      }
    },
    {
      "cell_type": "markdown",
      "source": [
        "**Answer**\n",
        "\n",
        "\\_\\_str\\_\\_ and \\_\\_repr\\_\\_ are two operator overloading methods that manage printing.\n",
        "\n",
        "In Short, the difference between both these operators is the goal of \\_\\_repr\\_\\_ is to be unambiguous and \\_\\_str\\_\\_ is to be readable.\n",
        "Whenever we are printing any object reference internally \\_\\_str\\_\\_ method will be called by default.\n",
        "The main purpose of \\_\\_str\\_\\_ is for readability. it prints the informal string representation of an object, one that is useful for printing the object. it may not be possible to convert result string to original object.\n",
        "\\_\\_repr\\_\\_ is used to print official string representation of an object, so it includes all information and development."
      ],
      "metadata": {
        "id": "45mNSSx8UjJX"
      }
    },
    {
      "cell_type": "markdown",
      "source": [
        "Q3. In a class, how do you intercept slice operations?"
      ],
      "metadata": {
        "id": "yYCOWirEUk-M"
      }
    },
    {
      "cell_type": "markdown",
      "source": [
        "**Answer** In a class use of slice() in \\_\\_getitem\\_\\_ method is used for intercept slice operation. This slice method is provided with start integer number, stop integer number and step integer number.\n",
        "\n",
        "Example: \\_\\_getitem\\_\\_(slice(start,stop,step))"
      ],
      "metadata": {
        "id": "1cHSFVupUnL8"
      }
    },
    {
      "cell_type": "markdown",
      "source": [
        "Q4. In a class, how do you capture in-place addition?"
      ],
      "metadata": {
        "id": "PQDGu97bWGeQ"
      }
    },
    {
      "cell_type": "markdown",
      "source": [
        "**Answer** \n",
        "\n",
        "In a class \\_\\_iadd\\_\\_ method is used for inplace operation "
      ],
      "metadata": {
        "id": "TVsGtBp9WHLw"
      }
    },
    {
      "cell_type": "code",
      "source": [
        "\n",
        "class test:\n",
        "  def __init__(self,num):\n",
        "    self.num = num\n",
        "  def __iadd__(self,other):\n",
        "    return self.num+other.num\n",
        "t = test(100)\n",
        "t1=test(200)\n",
        "t+=t1\n",
        "print(t)\n"
      ],
      "metadata": {
        "colab": {
          "base_uri": "https://localhost:8080/"
        },
        "id": "utHxRfVqZ835",
        "outputId": "64279382-c7b6-49ca-982a-9080fd131def"
      },
      "execution_count": 14,
      "outputs": [
        {
          "output_type": "stream",
          "name": "stdout",
          "text": [
            "300\n"
          ]
        }
      ]
    },
    {
      "cell_type": "markdown",
      "source": [
        "Q5. When is it appropriate to use operator overloading?"
      ],
      "metadata": {
        "id": "GAHNy_XHWmGI"
      }
    },
    {
      "cell_type": "markdown",
      "source": [
        "**ANSWER** When we want to use same operation to be applied for different data type we can use operator overloading. For eg + can be used both to perform addition as well as string concatenation."
      ],
      "metadata": {
        "id": "n14cjducX8Gb"
      }
    }
  ]
}