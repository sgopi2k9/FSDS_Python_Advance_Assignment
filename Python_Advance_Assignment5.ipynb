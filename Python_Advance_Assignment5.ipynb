{
  "nbformat": 4,
  "nbformat_minor": 0,
  "metadata": {
    "colab": {
      "name": "Python_Advance_Assignment5.ipynb",
      "provenance": [],
      "collapsed_sections": []
    },
    "kernelspec": {
      "name": "python3",
      "display_name": "Python 3"
    },
    "language_info": {
      "name": "python"
    }
  },
  "cells": [
    {
      "cell_type": "markdown",
      "source": [
        "Q1. What is the meaning of multiple inheritance?"
      ],
      "metadata": {
        "id": "oQrt2juDfkwL"
      }
    },
    {
      "cell_type": "markdown",
      "source": [
        "**Answer**\n",
        "\n",
        "When a class is derived from more than one base class it is called multiple Inheritance. The derived class inherits all the features of the base case"
      ],
      "metadata": {
        "id": "vevuv2LNfo7_"
      }
    },
    {
      "cell_type": "markdown",
      "source": [
        "Q2. What is the concept of delegation?"
      ],
      "metadata": {
        "id": "4MKJILU9gXIM"
      }
    },
    {
      "cell_type": "markdown",
      "source": [
        "**Answer**\n",
        "\n",
        " Delegation provides a proxy object for any class thay you want on top of the main class. its like a wrapper to your class so that you can access limited resources of the main class.\n",
        "\n",
        "it Wraps the object of main class into a smaller object with limited access\n",
        "\n",
        "Simply Delegation means that you can include a instance of another class as an instance variable, and forward messages to the instance"
      ],
      "metadata": {
        "id": "jGmnObgDgcEg"
      }
    },
    {
      "cell_type": "code",
      "source": [
        "class X:\n",
        "  def m1(self):\n",
        "    print(\"Class X method 1\")\n",
        "\n",
        "class Y:\n",
        "  # passing other class object as a delegate\n",
        "  def __init__(self,obj):\n",
        "    self.obj = obj\n",
        "  def m2(self):\n",
        "    self.obj.m1()\n",
        "\n",
        "x = X()\n",
        "y = Y(x)\n",
        "y.m2()\n",
        "\n"
      ],
      "metadata": {
        "colab": {
          "base_uri": "https://localhost:8080/"
        },
        "id": "DzhoRZ9SrJ-x",
        "outputId": "e10eb967-fe75-43d1-fcdc-074109545240"
      },
      "execution_count": 3,
      "outputs": [
        {
          "output_type": "stream",
          "name": "stdout",
          "text": [
            "Class X method 1\n"
          ]
        }
      ]
    },
    {
      "cell_type": "markdown",
      "source": [
        "Q3. What is the concept of composition?"
      ],
      "metadata": {
        "id": "ieO3Jik7lLUK"
      }
    },
    {
      "cell_type": "markdown",
      "source": [
        "Composition is an object oriented programming concept that references to one or more objects of other classes as an Instance variable.\n",
        "\n",
        "Here, by using the class name or by creating the object we can access the members of one class inside another class."
      ],
      "metadata": {
        "id": "x4_U_UUEofm3"
      }
    },
    {
      "cell_type": "code",
      "source": [
        "class A:\n",
        "  def m1(self):\n",
        "    print(\"Class A Method 1\")\n",
        "class B:\n",
        "  def m2(self):\n",
        "    # Referencing other class object\n",
        "    self.a = A()\n",
        "    self.a.m1()\n",
        "\n",
        "b = B()\n",
        "b.m2()\n",
        "\n"
      ],
      "metadata": {
        "colab": {
          "base_uri": "https://localhost:8080/"
        },
        "id": "a_TS62OUpB0R",
        "outputId": "5ad250b7-d95d-4250-d7f4-3b0bd8ab2719"
      },
      "execution_count": 2,
      "outputs": [
        {
          "output_type": "stream",
          "name": "stdout",
          "text": [
            "Class A Method 1\n"
          ]
        }
      ]
    },
    {
      "cell_type": "markdown",
      "source": [
        "Q4. What are bound methods and how do we use them?"
      ],
      "metadata": {
        "id": "-PoFSbWMpvsI"
      }
    },
    {
      "cell_type": "markdown",
      "source": [
        "A bound method is the one which is dependent on the instance of the class as the first argument. It passes the instance as the first argument which is used to access the variables and functions. In Python 3 and newer versions of python, all functions in the class are by default bound methods.\n",
        "\n",
        "For eg: Here using self we can access variables\n",
        "\n",
        "class test:\n",
        "  \n",
        "  a=10\n",
        "  \n",
        "  def m1(self):\n",
        "    \n",
        "    self.a-=20"
      ],
      "metadata": {
        "id": "BKv75c0YpwqQ"
      }
    },
    {
      "cell_type": "markdown",
      "source": [
        "Q5. What is the purpose of pseudoprivate attributes?"
      ],
      "metadata": {
        "id": "M3Zz38euqvB1"
      }
    },
    {
      "cell_type": "markdown",
      "source": [
        "In Python, there is no keyword like private to declare private methods or properties.\n",
        "\n",
        "To declare a private attribute in Python, you need to add a double underscore before the attribute  such as self.__a. However, such a method is not really private, but \"pseudo-private.\""
      ],
      "metadata": {
        "id": "JLcMcdXlqv9B"
      }
    }
  ]
}