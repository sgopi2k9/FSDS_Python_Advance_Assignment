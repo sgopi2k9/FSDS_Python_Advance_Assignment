{
  "nbformat": 4,
  "nbformat_minor": 0,
  "metadata": {
    "colab": {
      "name": "Python_Advance_Assignment7.ipynb",
      "provenance": []
    },
    "kernelspec": {
      "name": "python3",
      "display_name": "Python 3"
    },
    "language_info": {
      "name": "python"
    }
  },
  "cells": [
    {
      "cell_type": "markdown",
      "source": [
        "Q1. What is the purpose of the try statement?"
      ],
      "metadata": {
        "id": "eml15NIay03J"
      }
    },
    {
      "cell_type": "markdown",
      "source": [
        "**Answer**\n",
        "\n",
        "try statement is used to define the functionality of the program. It consists of a block of risky statements which might cause an exception during runtime"
      ],
      "metadata": {
        "id": "UGMFm5Rcy4zv"
      }
    },
    {
      "cell_type": "markdown",
      "source": [
        "Q2. What are the two most popular try statement variations?"
      ],
      "metadata": {
        "id": "Gbj4Ke1VzKEM"
      }
    },
    {
      "cell_type": "markdown",
      "source": [
        "**Answer**\n",
        "\n",
        "The Popular try statement variations are:\n",
        "\n",
        "1. try,except\n",
        "2. try,except,finally\n",
        "3. try,except,finally,else\n",
        "\n",
        "The try block is used to check code for exceptions during runtime. ie code inside try block will execute completely when there is no error in the program. Whereas the code inside except block will execute whenever the program encounters some error in the preceeding try block.\n",
        "\n",
        "Whereas the code enters the else block if and only if the try clause does not raise and exception. The code in the finally block will execute irrespective of exception."
      ],
      "metadata": {
        "id": "zfuTJSFUzNY0"
      }
    },
    {
      "cell_type": "markdown",
      "source": [
        "Q3. What is the purpose of the raise statement?"
      ],
      "metadata": {
        "id": "bPWSAOCJzaCv"
      }
    },
    {
      "cell_type": "markdown",
      "source": [
        "**Answer**\n",
        "\n",
        "raise statement is used to trigger an exception explicitly, if a certain condition is not as per requirement of programmer. raise statement helps in triggering exception as per programming logic."
      ],
      "metadata": {
        "id": "okpf6Qiazcc4"
      }
    },
    {
      "cell_type": "markdown",
      "source": [
        "Q4. What does the assert statement do, and what other statement is it like?"
      ],
      "metadata": {
        "id": "s8mtRPkBzhY_"
      }
    },
    {
      "cell_type": "markdown",
      "source": [
        "**Answer**\n",
        "\n",
        "Assert statement is used to evaluate whether the given expression is True or False. If the output of the statement is False then exception is raised."
      ],
      "metadata": {
        "id": "MqEL0IhwzkVC"
      }
    },
    {
      "cell_type": "markdown",
      "source": [
        "Q5. What is the purpose of the with/as argument, and what other statement is it like?"
      ],
      "metadata": {
        "id": "-bsuT-LNzyPM"
      }
    },
    {
      "cell_type": "markdown",
      "source": [
        "**Answer**\n",
        "\n",
        "with/as statement simplifies use of file handling in python. When we use a with statement for file reading, there is no need for programmer to explicitly takecare of activities like resource deallocation and file closing by using file.close() method. with statement itself ensures proper acquisition and release of resources. this avoids triggering of exceptions if file closing is unknowingly forgotten in the code execution.\n",
        "\n",
        "with open('sample_file.txt','w') as file:\n",
        "  \n",
        "  file.write('Hello World')"
      ],
      "metadata": {
        "id": "O_mf5b5-z0zc"
      }
    }
  ]
}