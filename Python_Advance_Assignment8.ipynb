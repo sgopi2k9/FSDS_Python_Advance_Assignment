{
  "nbformat": 4,
  "nbformat_minor": 0,
  "metadata": {
    "colab": {
      "name": "Python_Advance_Assignment8.ipynb",
      "provenance": [],
      "collapsed_sections": []
    },
    "kernelspec": {
      "name": "python3",
      "display_name": "Python 3"
    },
    "language_info": {
      "name": "python"
    }
  },
  "cells": [
    {
      "cell_type": "markdown",
      "source": [
        "Q1. What are the two latest user-defined exception constraints in Python 3.X?"
      ],
      "metadata": {
        "id": "gLkx8PLp0-DV"
      }
    },
    {
      "cell_type": "markdown",
      "source": [
        "**Answer**\n",
        "\n",
        "raise and assert are the two latest user-defined exception constraints in Python 3.X"
      ],
      "metadata": {
        "id": "eWE_Ruh01Bcv"
      }
    },
    {
      "cell_type": "markdown",
      "source": [
        "Q2. How are class-based exceptions that have been raised matched to handlers?"
      ],
      "metadata": {
        "id": "YH8NUfJV1CKL"
      }
    },
    {
      "cell_type": "markdown",
      "source": [
        "**Answer**\n",
        "\n",
        "A try statement may have more than one except clause, to specify handlers for different exceptions. At most one handler will be executed. Handlers only handle exceptions that occur in the corresponding try clause, not in other handlers of the same try statement.\n",
        "\n",
        "When exception occurs program will try to match the relevant handler and execute the except block. If not specific error is mentioned then general Exception handler block is executed"
      ],
      "metadata": {
        "id": "kSGwHvRA1Eio"
      }
    },
    {
      "cell_type": "markdown",
      "source": [
        "Q3. Describe two methods for attaching context information to exception artefacts."
      ],
      "metadata": {
        "id": "FbXF0d041E0L"
      }
    },
    {
      "cell_type": "markdown",
      "source": [
        "**Answer**\n",
        "\n",
        "We can use raise and except block to mention the information we need to pass with respect to context\n",
        "\n",
        "Example code as below"
      ],
      "metadata": {
        "id": "xK-lDZBp1HAY"
      }
    },
    {
      "cell_type": "code",
      "source": [
        "class MyError(Exception):\n",
        "   \n",
        " \n",
        "    def __init__(self, value):\n",
        "        self.value = value\n",
        "   \n",
        "    \n",
        "    def __str__(self):\n",
        "        return(repr(self.value))\n",
        "   \n",
        "try:\n",
        "    raise(MyError(\"Some Error Data\"))\n",
        "   \n",
        "\n",
        "except MyError as Argument:\n",
        "    print('This is the Argument\\n', Argument)"
      ],
      "metadata": {
        "id": "_trSh5pwILCM"
      },
      "execution_count": null,
      "outputs": []
    },
    {
      "cell_type": "markdown",
      "source": [
        "Q4. Describe two methods for specifying the text of an exception object&#39;s error message."
      ],
      "metadata": {
        "id": "OUZlk1DP1HMS"
      }
    },
    {
      "cell_type": "markdown",
      "source": [
        "**Answer**\n",
        "\n",
        "except can be used to define the exception objects error message.\n",
        "\n",
        "except Exception as e:\n",
        "\n",
        "  print(\"Exception occured:\"+str(e))\n",
        "\n",
        "raise statement is used to trigger explicit exception, if certain condition is not as per requirement of programmer. it helps in triggering exception as per need of programmer and logic."
      ],
      "metadata": {
        "id": "G2KINlPN1Jla"
      }
    },
    {
      "cell_type": "markdown",
      "source": [
        "Q5. Why do you no longer use string-based exceptions?"
      ],
      "metadata": {
        "id": "O5NBX7HG1Jxc"
      }
    },
    {
      "cell_type": "markdown",
      "source": [
        "**Answer**\n",
        "\n",
        "String-based Exceptions doesn't inherit from Exceptions. so plain exceptions catch all exceptions and not only system"
      ],
      "metadata": {
        "id": "T9q_eM8e1MFR"
      }
    }
  ]
}