{
  "nbformat": 4,
  "nbformat_minor": 0,
  "metadata": {
    "colab": {
      "name": "Python_Advance_Assignment9.ipynb",
      "provenance": [],
      "collapsed_sections": []
    },
    "kernelspec": {
      "name": "python3",
      "display_name": "Python 3"
    },
    "language_info": {
      "name": "python"
    }
  },
  "cells": [
    {
      "cell_type": "markdown",
      "source": [
        "Q1. In Python 3.X, what are the names and functions of string object types?"
      ],
      "metadata": {
        "id": "wTYUcl7-Ji73"
      }
    },
    {
      "cell_type": "markdown",
      "source": [
        "**Answer**\n",
        "\n",
        "Function\tDescription\n",
        "format()\tIt’s used to create a formatted string from the template string and the supplied values.\n",
        "\n",
        "split()\tPython string split() function is used to split a string into the list of strings based on a delimiter.\n",
        "\n",
        "join()\tThis function returns a new string that is the concatenation of the strings in iterable with string object as a delimiter.\n",
        "strip()\tUsed to trim whitespaces from the string object.\n",
        "\n",
        "format_map()\tPython string format_map() function returns a formatted version of the string using substitutions from the mapping provided.\n",
        "upper()\tWe can convert a string to uppercase in Python using str.upper() function.\n",
        "\n",
        "lower()\tThis function creates a new string in lowercase.\n",
        "\n",
        "replace()\tPython string replace() function is used to create a new string by replacing some parts of another string.\n",
        "find()\tPython String find() method is used to find the index of a substring in a string.\n",
        "\n",
        "translate()\tPython String translate() function returns a new string with each character in the string replaced using the given translation table.\n",
        "\n",
        "encode()\tPython string encode() function is used to encode the string using the provided encoding.\n",
        "\n",
        "count()\tPython String count() function returns the number of occurrences of a substring in the given string.\n",
        "\n",
        "startswith()\tPython string startswith() function returns True if the string starts with the given prefix, otherwise it returns False.\n",
        "\n",
        "endswith()\tPython string endswith() function returns True if the string ends with the given suffix, otherwise it returns False.\n",
        "\n",
        "capitalize()\tPython String capitalize() function returns the capitalized version of the string.\n",
        "\n",
        "center()\tPython string center() function returns a centered string of specified size.\n",
        "\n",
        "casefold()\tPython string casefold() function returns a casefolded copy of the string. This function is used to perform case-insensitive string comparison.\n",
        "\n",
        "expandtabs()\tPython string expandtabs() function returns a new string with tab characters (\\t) replaced with one or more whitespaces.\n",
        "\n",
        "index()\tPython String index() function returns the lowest index where the specified substring is found.\n",
        "\n",
        "__contains__()\tPython String class has __contains__() function that we can use to check if it contains another string or not. We can also use “in” operator to perform this check.\n",
        "\n",
        "Function\tDescription\n",
        "\n",
        "isalnum()\tPython string isalnum() function returns True if it’s made of alphanumeric characters only.\n",
        "\n",
        "isalpha()\tPython String isalpha() function returns True if all the characters in the string are alphabets, otherwise False.\n",
        "\n",
        "isdecimal()\tPython String isdecimal() function returns True if all the characters in the string are decimal characters, otherwise False.\n",
        "\n",
        "isdigit()\tPython String isdigit() function returns True if all the characters in the string are digits, otherwise False.\n",
        "\n",
        "isidentifier()\tPython String isidentifier() function returns True if the string is a valid identifier according to the Python language definition.\n",
        "\n",
        "islower()\tPython String islower() returns True if all cased characters in the string are lowercase and there is at least one cased character, otherwise it returns False.\n",
        "\n",
        "isnumeric()\tPython String isnumeric() function returns True if all the characters in the string are numeric, otherwise False. If the string is empty, then this function returns False.\n",
        "\n",
        "isprintable()\tPython String isprintable() function returns True if all characters in the string are printable or the string is empty, False otherwise.\n",
        "\n",
        "isspace()\tPython String isspace() function returns True if there are only whitespace characters in the string, otherwise it returns False.\n",
        "istitle()\tPython String istitle() returns True if the string is title cased and not empty, otherwise it returns False.\n",
        "\n",
        "isupper()\tPython String isupper() function returns True if all the cased characters are in Uppercase.\n",
        "\n",
        "rjust(), ljust()\tUtility functions to create a new string of specified length from the source string with right and left justification.\n",
        "\n",
        "swapcase()\tPython String swapcase() function returns a new string with uppercase characters converted to lowercase and vice versa.\n",
        "\n",
        "partition()\tPython String partition() function splits a string based on a separator into a tuple with three strings.\n",
        "\n",
        "splitlines()\tPython String splitlines() function returns the list of lines in the string.\n",
        "\n",
        "title()\tPython String title() function returns a title cased version of the string.\n",
        "\n",
        "zfill()\tPython String zfill(width) function returns a new string of specified width. The string is filled with 0 on the left side to create the specified width.\n",
        "\n"
      ],
      "metadata": {
        "id": "mvmaOUsgJqn3"
      }
    },
    {
      "cell_type": "markdown",
      "source": [
        "Q2. How do the string forms in Python 3.X vary in terms of operations?"
      ],
      "metadata": {
        "id": "2CH6TcylJq3A"
      }
    },
    {
      "cell_type": "markdown",
      "source": [
        "**Answer**\n",
        "\n",
        "In Python3 default format of strings is Unicode Whereas in Pyton2 we need to explicitly mention Unicode value using u."
      ],
      "metadata": {
        "id": "Y71Ogj18Jtir"
      }
    },
    {
      "cell_type": "markdown",
      "source": [
        "Q3. In 3.X, how do you put non-ASCII Unicode characters in a string?"
      ],
      "metadata": {
        "id": "iU53TPEbJtxl"
      }
    },
    {
      "cell_type": "markdown",
      "source": [
        "**Answer**\n",
        "\n",
        "In Python 3.x unidecode() method from unidecode library can be used to put non-ASCII Unicode Characters in a string.\n",
        "\n",
        "Example as below"
      ],
      "metadata": {
        "id": "HdLETV00JwYp"
      }
    },
    {
      "cell_type": "code",
      "source": [
        "from unidecode import unidecode\n",
        "print(unidecode(u'ko\\u017eu\\u0161\\u010dek'))"
      ],
      "metadata": {
        "colab": {
          "base_uri": "https://localhost:8080/"
        },
        "id": "UEoM-BbxKZkc",
        "outputId": "6fa1c79d-56f5-4f40-c444-1ed1c3ca38c7"
      },
      "execution_count": 6,
      "outputs": [
        {
          "output_type": "stream",
          "name": "stdout",
          "text": [
            "kozuscek\n"
          ]
        }
      ]
    },
    {
      "cell_type": "code",
      "source": [
        "!pip install unidecode"
      ],
      "metadata": {
        "colab": {
          "base_uri": "https://localhost:8080/"
        },
        "id": "OIwcnrtvLMmH",
        "outputId": "74cc665c-3ffb-4300-eead-8c6d7e3dcf0a"
      },
      "execution_count": 3,
      "outputs": [
        {
          "output_type": "stream",
          "name": "stdout",
          "text": [
            "Collecting unidecode\n",
            "  Downloading Unidecode-1.3.2-py3-none-any.whl (235 kB)\n",
            "\u001b[?25l\r\u001b[K     |█▍                              | 10 kB 23.5 MB/s eta 0:00:01\r\u001b[K     |██▉                             | 20 kB 28.8 MB/s eta 0:00:01\r\u001b[K     |████▏                           | 30 kB 14.5 MB/s eta 0:00:01\r\u001b[K     |█████▋                          | 40 kB 11.1 MB/s eta 0:00:01\r\u001b[K     |███████                         | 51 kB 7.6 MB/s eta 0:00:01\r\u001b[K     |████████▍                       | 61 kB 7.6 MB/s eta 0:00:01\r\u001b[K     |█████████▊                      | 71 kB 7.4 MB/s eta 0:00:01\r\u001b[K     |███████████▏                    | 81 kB 8.2 MB/s eta 0:00:01\r\u001b[K     |████████████▌                   | 92 kB 6.4 MB/s eta 0:00:01\r\u001b[K     |██████████████                  | 102 kB 7.0 MB/s eta 0:00:01\r\u001b[K     |███████████████▎                | 112 kB 7.0 MB/s eta 0:00:01\r\u001b[K     |████████████████▊               | 122 kB 7.0 MB/s eta 0:00:01\r\u001b[K     |██████████████████              | 133 kB 7.0 MB/s eta 0:00:01\r\u001b[K     |███████████████████▌            | 143 kB 7.0 MB/s eta 0:00:01\r\u001b[K     |████████████████████▉           | 153 kB 7.0 MB/s eta 0:00:01\r\u001b[K     |██████████████████████▎         | 163 kB 7.0 MB/s eta 0:00:01\r\u001b[K     |███████████████████████▋        | 174 kB 7.0 MB/s eta 0:00:01\r\u001b[K     |█████████████████████████       | 184 kB 7.0 MB/s eta 0:00:01\r\u001b[K     |██████████████████████████▍     | 194 kB 7.0 MB/s eta 0:00:01\r\u001b[K     |███████████████████████████▉    | 204 kB 7.0 MB/s eta 0:00:01\r\u001b[K     |█████████████████████████████▏  | 215 kB 7.0 MB/s eta 0:00:01\r\u001b[K     |██████████████████████████████▋ | 225 kB 7.0 MB/s eta 0:00:01\r\u001b[K     |████████████████████████████████| 235 kB 7.0 MB/s eta 0:00:01\r\u001b[K     |████████████████████████████████| 235 kB 7.0 MB/s \n",
            "\u001b[?25hInstalling collected packages: unidecode\n",
            "Successfully installed unidecode-1.3.2\n"
          ]
        }
      ]
    },
    {
      "cell_type": "markdown",
      "source": [
        "Q4. In Python 3.X, what are the key differences between text-mode and binary-mode files?"
      ],
      "metadata": {
        "id": "JzPhLFu5JwmX"
      }
    },
    {
      "cell_type": "markdown",
      "source": [
        "**Answer**\n",
        "\n",
        "The major difference between these two is that a text file contains textual information in the form of alphabets, digits and special characters or symbols. On the other hand, a binary file contains bytes or a compiled version of a text file.\n",
        "\n",
        "When a file is opened in text mode, reading its data automatically decodes its content (as per the platform default or as per provided encoding), and returns it as a str; writing operation takes a str, and automatically encodes it before transferring to the file. Text mode files also support universal end-of-line translation, and encoding specification arguments.\n",
        "\n",
        "When a file is opened in binary mode by adding a b to the mode string argument in the open() call, reading its data does not decode it in any way, and simply returns its content raw and unchanged, as a bytes object; writing takes a bytes object and transfers it to the file unchanged. Binary-mode files also accept a bytearray object for the content to be written to the file."
      ],
      "metadata": {
        "id": "BwVTG8kMJy1J"
      }
    },
    {
      "cell_type": "markdown",
      "source": [
        "Q5. How can you interpret a Unicode text file containing text encoded in a different encoding than\n",
        "your platform&#39;s default?"
      ],
      "metadata": {
        "id": "25wI4YznJzDH"
      }
    },
    {
      "cell_type": "markdown",
      "source": [
        "**Answer**\n",
        "\n",
        "Use of encode() and decode() method can be used to you interpret a Unicode text file containing text encoded in a different encoding than your platform's default, by default encoding parameter is UTF-8"
      ],
      "metadata": {
        "id": "cAbzFIaMJ1la"
      }
    },
    {
      "cell_type": "markdown",
      "source": [
        "Q6. What is the best way to make a Unicode text file in a particular encoding format?"
      ],
      "metadata": {
        "id": "jBSCA7kvJ10-"
      }
    },
    {
      "cell_type": "markdown",
      "source": [
        "**Answer**\n",
        "\n",
        "Use str.encode() and file.write() to make a Unicode text file in a particular encoding format, default encoding format is UTF-18.\n",
        "\n",
        "Call str.encode(encoding) with encoding set to utf8 to encode str.\n",
        "\n",
        "Call open(file, mode) to open a file with mode set to wb . wb writes to files in binary mode & preserves UTF-8format.\n",
        "\n",
        "Call file.write(data) to write data to the file."
      ],
      "metadata": {
        "id": "snOhW24zJ4Iz"
      }
    },
    {
      "cell_type": "markdown",
      "source": [
        "Q7. What qualifies ASCII text as a form of Unicode text?"
      ],
      "metadata": {
        "id": "qLgvnMzIJ4YA"
      }
    },
    {
      "cell_type": "markdown",
      "source": [
        "**Answer**\n",
        "\n",
        "Unicode represents most written languages in the world. ASCII has its equivalent in Unicode. The difference between ASCII and Unicode is that ASCII represents lowercase letters (a-z), uppercase letters (A-Z), digits (0–9) and symbols such as punctuation marks while Unicode represents letters of English, Arabic, Greek etc. mathematical symbols, historical scripts, emoji covering a wide range of characters than ASCII."
      ],
      "metadata": {
        "id": "ZVfBBJzDJ76s"
      }
    },
    {
      "cell_type": "markdown",
      "source": [
        "Q8. How much of an effect does the change in string types in Python 3.X have on your code?"
      ],
      "metadata": {
        "id": "uoG-9zUXJ8Ib"
      }
    },
    {
      "cell_type": "markdown",
      "source": [
        "**Answer**\n",
        "\n",
        "Python 3 stores strings as Unicode by default whereas Python 2 requires you to mark a string with a u if you want to store it as Unicode. Unicode strings are more versatile than ASCII strings, which are the Python 3.X default, as they can store letters from foreign languages as well as emoji and the standard Roman letters and numerals."
      ],
      "metadata": {
        "id": "GeXkGKZOJ-4H"
      }
    }
  ]
}